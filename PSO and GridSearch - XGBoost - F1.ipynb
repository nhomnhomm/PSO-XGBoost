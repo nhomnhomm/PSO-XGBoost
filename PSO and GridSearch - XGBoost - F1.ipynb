{
 "cells": [
  {
   "cell_type": "markdown",
   "metadata": {},
   "source": [
    "# Heart Disease "
   ]
  },
  {
   "cell_type": "code",
   "execution_count": 26,
   "metadata": {},
   "outputs": [],
   "source": [
    "import numpy as np\n",
    "import pandas as pd\n",
    "import csv\n",
    "import math\n",
    "from math import exp, log\n",
    "import seaborn as sns\n",
    "from sklearn.model_selection import cross_validate\n",
    "from sklearn.model_selection import train_test_split\n",
    "from sklearn.preprocessing import StandardScaler\n",
    "from xgboost import XGBClassifier\n",
    "from mlxtend.plotting import plot_confusion_matrix \n",
    "\n",
    "from sklearn.model_selection import GridSearchCV\n",
    "from sklearn.model_selection import ParameterGrid\n",
    "from sklearn.metrics import classification_report\n",
    "from sklearn.metrics import confusion_matrix\n",
    "from sklearn.metrics import accuracy_score, f1_score, roc_auc_score\n",
    "sns.set_theme()\n",
    "\n",
    "# FILEPATH\n",
    "import matplotlib.pyplot as plt"
   ]
  },
  {
   "cell_type": "markdown",
   "metadata": {},
   "source": [
    "# Process Data"
   ]
  },
  {
   "cell_type": "markdown",
   "metadata": {},
   "source": [
    "## Import Data"
   ]
  },
  {
   "cell_type": "code",
   "execution_count": 2,
   "metadata": {},
   "outputs": [],
   "source": [
    "# Read the CSV file into a DataFrame\n",
    "data = pd.read_csv('CVD_cleaned.csv')"
   ]
  },
  {
   "cell_type": "code",
   "execution_count": 3,
   "metadata": {},
   "outputs": [
    {
     "data": {
      "text/html": [
       "<div>\n",
       "<style scoped>\n",
       "    .dataframe tbody tr th:only-of-type {\n",
       "        vertical-align: middle;\n",
       "    }\n",
       "\n",
       "    .dataframe tbody tr th {\n",
       "        vertical-align: top;\n",
       "    }\n",
       "\n",
       "    .dataframe thead th {\n",
       "        text-align: right;\n",
       "    }\n",
       "</style>\n",
       "<table border=\"1\" class=\"dataframe\">\n",
       "  <thead>\n",
       "    <tr style=\"text-align: right;\">\n",
       "      <th></th>\n",
       "      <th>General_Health</th>\n",
       "      <th>Checkup</th>\n",
       "      <th>Exercise</th>\n",
       "      <th>Heart_Disease</th>\n",
       "      <th>Skin_Cancer</th>\n",
       "      <th>Other_Cancer</th>\n",
       "      <th>Depression</th>\n",
       "      <th>Diabetes</th>\n",
       "      <th>Arthritis</th>\n",
       "      <th>Sex</th>\n",
       "      <th>Age_Category</th>\n",
       "      <th>Height_(cm)</th>\n",
       "      <th>Weight_(kg)</th>\n",
       "      <th>BMI</th>\n",
       "      <th>Smoking_History</th>\n",
       "      <th>Alcohol_Consumption</th>\n",
       "      <th>Fruit_Consumption</th>\n",
       "      <th>Green_Vegetables_Consumption</th>\n",
       "      <th>FriedPotato_Consumption</th>\n",
       "    </tr>\n",
       "  </thead>\n",
       "  <tbody>\n",
       "    <tr>\n",
       "      <th>0</th>\n",
       "      <td>Poor</td>\n",
       "      <td>Within the past 2 years</td>\n",
       "      <td>No</td>\n",
       "      <td>No</td>\n",
       "      <td>No</td>\n",
       "      <td>No</td>\n",
       "      <td>No</td>\n",
       "      <td>No</td>\n",
       "      <td>Yes</td>\n",
       "      <td>Female</td>\n",
       "      <td>70-74</td>\n",
       "      <td>150.0</td>\n",
       "      <td>32.66</td>\n",
       "      <td>14.54</td>\n",
       "      <td>Yes</td>\n",
       "      <td>0.0</td>\n",
       "      <td>30.0</td>\n",
       "      <td>16.0</td>\n",
       "      <td>12.0</td>\n",
       "    </tr>\n",
       "    <tr>\n",
       "      <th>1</th>\n",
       "      <td>Very Good</td>\n",
       "      <td>Within the past year</td>\n",
       "      <td>No</td>\n",
       "      <td>Yes</td>\n",
       "      <td>No</td>\n",
       "      <td>No</td>\n",
       "      <td>No</td>\n",
       "      <td>Yes</td>\n",
       "      <td>No</td>\n",
       "      <td>Female</td>\n",
       "      <td>70-74</td>\n",
       "      <td>165.0</td>\n",
       "      <td>77.11</td>\n",
       "      <td>28.29</td>\n",
       "      <td>No</td>\n",
       "      <td>0.0</td>\n",
       "      <td>30.0</td>\n",
       "      <td>0.0</td>\n",
       "      <td>4.0</td>\n",
       "    </tr>\n",
       "    <tr>\n",
       "      <th>2</th>\n",
       "      <td>Very Good</td>\n",
       "      <td>Within the past year</td>\n",
       "      <td>Yes</td>\n",
       "      <td>No</td>\n",
       "      <td>No</td>\n",
       "      <td>No</td>\n",
       "      <td>No</td>\n",
       "      <td>Yes</td>\n",
       "      <td>No</td>\n",
       "      <td>Female</td>\n",
       "      <td>60-64</td>\n",
       "      <td>163.0</td>\n",
       "      <td>88.45</td>\n",
       "      <td>33.47</td>\n",
       "      <td>No</td>\n",
       "      <td>4.0</td>\n",
       "      <td>12.0</td>\n",
       "      <td>3.0</td>\n",
       "      <td>16.0</td>\n",
       "    </tr>\n",
       "    <tr>\n",
       "      <th>3</th>\n",
       "      <td>Poor</td>\n",
       "      <td>Within the past year</td>\n",
       "      <td>Yes</td>\n",
       "      <td>Yes</td>\n",
       "      <td>No</td>\n",
       "      <td>No</td>\n",
       "      <td>No</td>\n",
       "      <td>Yes</td>\n",
       "      <td>No</td>\n",
       "      <td>Male</td>\n",
       "      <td>75-79</td>\n",
       "      <td>180.0</td>\n",
       "      <td>93.44</td>\n",
       "      <td>28.73</td>\n",
       "      <td>No</td>\n",
       "      <td>0.0</td>\n",
       "      <td>30.0</td>\n",
       "      <td>30.0</td>\n",
       "      <td>8.0</td>\n",
       "    </tr>\n",
       "    <tr>\n",
       "      <th>4</th>\n",
       "      <td>Good</td>\n",
       "      <td>Within the past year</td>\n",
       "      <td>No</td>\n",
       "      <td>No</td>\n",
       "      <td>No</td>\n",
       "      <td>No</td>\n",
       "      <td>No</td>\n",
       "      <td>No</td>\n",
       "      <td>No</td>\n",
       "      <td>Male</td>\n",
       "      <td>80+</td>\n",
       "      <td>191.0</td>\n",
       "      <td>88.45</td>\n",
       "      <td>24.37</td>\n",
       "      <td>Yes</td>\n",
       "      <td>0.0</td>\n",
       "      <td>8.0</td>\n",
       "      <td>4.0</td>\n",
       "      <td>0.0</td>\n",
       "    </tr>\n",
       "  </tbody>\n",
       "</table>\n",
       "</div>"
      ],
      "text/plain": [
       "  General_Health                  Checkup Exercise Heart_Disease Skin_Cancer  \\\n",
       "0           Poor  Within the past 2 years       No            No          No   \n",
       "1      Very Good     Within the past year       No           Yes          No   \n",
       "2      Very Good     Within the past year      Yes            No          No   \n",
       "3           Poor     Within the past year      Yes           Yes          No   \n",
       "4           Good     Within the past year       No            No          No   \n",
       "\n",
       "  Other_Cancer Depression Diabetes Arthritis     Sex Age_Category  \\\n",
       "0           No         No       No       Yes  Female        70-74   \n",
       "1           No         No      Yes        No  Female        70-74   \n",
       "2           No         No      Yes        No  Female        60-64   \n",
       "3           No         No      Yes        No    Male        75-79   \n",
       "4           No         No       No        No    Male          80+   \n",
       "\n",
       "   Height_(cm)  Weight_(kg)    BMI Smoking_History  Alcohol_Consumption  \\\n",
       "0        150.0        32.66  14.54             Yes                  0.0   \n",
       "1        165.0        77.11  28.29              No                  0.0   \n",
       "2        163.0        88.45  33.47              No                  4.0   \n",
       "3        180.0        93.44  28.73              No                  0.0   \n",
       "4        191.0        88.45  24.37             Yes                  0.0   \n",
       "\n",
       "   Fruit_Consumption  Green_Vegetables_Consumption  FriedPotato_Consumption  \n",
       "0               30.0                          16.0                     12.0  \n",
       "1               30.0                           0.0                      4.0  \n",
       "2               12.0                           3.0                     16.0  \n",
       "3               30.0                          30.0                      8.0  \n",
       "4                8.0                           4.0                      0.0  "
      ]
     },
     "execution_count": 3,
     "metadata": {},
     "output_type": "execute_result"
    }
   ],
   "source": [
    "data.head()"
   ]
  },
  {
   "cell_type": "markdown",
   "metadata": {},
   "source": [
    "## Data Info"
   ]
  },
  {
   "cell_type": "code",
   "execution_count": 4,
   "metadata": {},
   "outputs": [
    {
     "name": "stdout",
     "output_type": "stream",
     "text": [
      "<class 'pandas.core.frame.DataFrame'>\n",
      "RangeIndex: 308854 entries, 0 to 308853\n",
      "Data columns (total 19 columns):\n",
      " #   Column                        Non-Null Count   Dtype  \n",
      "---  ------                        --------------   -----  \n",
      " 0   General_Health                308854 non-null  object \n",
      " 1   Checkup                       308854 non-null  object \n",
      " 2   Exercise                      308854 non-null  object \n",
      " 3   Heart_Disease                 308854 non-null  object \n",
      " 4   Skin_Cancer                   308854 non-null  object \n",
      " 5   Other_Cancer                  308854 non-null  object \n",
      " 6   Depression                    308854 non-null  object \n",
      " 7   Diabetes                      308854 non-null  object \n",
      " 8   Arthritis                     308854 non-null  object \n",
      " 9   Sex                           308854 non-null  object \n",
      " 10  Age_Category                  308854 non-null  object \n",
      " 11  Height_(cm)                   308854 non-null  float64\n",
      " 12  Weight_(kg)                   308854 non-null  float64\n",
      " 13  BMI                           308854 non-null  float64\n",
      " 14  Smoking_History               308854 non-null  object \n",
      " 15  Alcohol_Consumption           308854 non-null  float64\n",
      " 16  Fruit_Consumption             308854 non-null  float64\n",
      " 17  Green_Vegetables_Consumption  308854 non-null  float64\n",
      " 18  FriedPotato_Consumption       308854 non-null  float64\n",
      "dtypes: float64(7), object(12)\n",
      "memory usage: 44.8+ MB\n"
     ]
    }
   ],
   "source": [
    "data.info()"
   ]
  },
  {
   "cell_type": "code",
   "execution_count": 5,
   "metadata": {},
   "outputs": [
    {
     "data": {
      "text/html": [
       "<div>\n",
       "<style scoped>\n",
       "    .dataframe tbody tr th:only-of-type {\n",
       "        vertical-align: middle;\n",
       "    }\n",
       "\n",
       "    .dataframe tbody tr th {\n",
       "        vertical-align: top;\n",
       "    }\n",
       "\n",
       "    .dataframe thead th {\n",
       "        text-align: right;\n",
       "    }\n",
       "</style>\n",
       "<table border=\"1\" class=\"dataframe\">\n",
       "  <thead>\n",
       "    <tr style=\"text-align: right;\">\n",
       "      <th></th>\n",
       "      <th>unique value count</th>\n",
       "    </tr>\n",
       "  </thead>\n",
       "  <tbody>\n",
       "    <tr>\n",
       "      <th>General_Health</th>\n",
       "      <td>5</td>\n",
       "    </tr>\n",
       "    <tr>\n",
       "      <th>Checkup</th>\n",
       "      <td>5</td>\n",
       "    </tr>\n",
       "    <tr>\n",
       "      <th>Exercise</th>\n",
       "      <td>2</td>\n",
       "    </tr>\n",
       "    <tr>\n",
       "      <th>Heart_Disease</th>\n",
       "      <td>2</td>\n",
       "    </tr>\n",
       "    <tr>\n",
       "      <th>Skin_Cancer</th>\n",
       "      <td>2</td>\n",
       "    </tr>\n",
       "    <tr>\n",
       "      <th>Other_Cancer</th>\n",
       "      <td>2</td>\n",
       "    </tr>\n",
       "    <tr>\n",
       "      <th>Depression</th>\n",
       "      <td>2</td>\n",
       "    </tr>\n",
       "    <tr>\n",
       "      <th>Diabetes</th>\n",
       "      <td>4</td>\n",
       "    </tr>\n",
       "    <tr>\n",
       "      <th>Arthritis</th>\n",
       "      <td>2</td>\n",
       "    </tr>\n",
       "    <tr>\n",
       "      <th>Sex</th>\n",
       "      <td>2</td>\n",
       "    </tr>\n",
       "    <tr>\n",
       "      <th>Age_Category</th>\n",
       "      <td>13</td>\n",
       "    </tr>\n",
       "    <tr>\n",
       "      <th>Height_(cm)</th>\n",
       "      <td>99</td>\n",
       "    </tr>\n",
       "    <tr>\n",
       "      <th>Weight_(kg)</th>\n",
       "      <td>525</td>\n",
       "    </tr>\n",
       "    <tr>\n",
       "      <th>BMI</th>\n",
       "      <td>3654</td>\n",
       "    </tr>\n",
       "    <tr>\n",
       "      <th>Smoking_History</th>\n",
       "      <td>2</td>\n",
       "    </tr>\n",
       "    <tr>\n",
       "      <th>Alcohol_Consumption</th>\n",
       "      <td>31</td>\n",
       "    </tr>\n",
       "    <tr>\n",
       "      <th>Fruit_Consumption</th>\n",
       "      <td>77</td>\n",
       "    </tr>\n",
       "    <tr>\n",
       "      <th>Green_Vegetables_Consumption</th>\n",
       "      <td>75</td>\n",
       "    </tr>\n",
       "    <tr>\n",
       "      <th>FriedPotato_Consumption</th>\n",
       "      <td>69</td>\n",
       "    </tr>\n",
       "  </tbody>\n",
       "</table>\n",
       "</div>"
      ],
      "text/plain": [
       "                              unique value count\n",
       "General_Health                                 5\n",
       "Checkup                                        5\n",
       "Exercise                                       2\n",
       "Heart_Disease                                  2\n",
       "Skin_Cancer                                    2\n",
       "Other_Cancer                                   2\n",
       "Depression                                     2\n",
       "Diabetes                                       4\n",
       "Arthritis                                      2\n",
       "Sex                                            2\n",
       "Age_Category                                  13\n",
       "Height_(cm)                                   99\n",
       "Weight_(kg)                                  525\n",
       "BMI                                         3654\n",
       "Smoking_History                                2\n",
       "Alcohol_Consumption                           31\n",
       "Fruit_Consumption                             77\n",
       "Green_Vegetables_Consumption                  75\n",
       "FriedPotato_Consumption                       69"
      ]
     },
     "execution_count": 5,
     "metadata": {},
     "output_type": "execute_result"
    }
   ],
   "source": [
    "unique_values = {}\n",
    "for col in data.columns:\n",
    "    unique_values[col] = data[col].value_counts().shape[0]\n",
    "\n",
    "pd.DataFrame(unique_values, index=['unique value count']).transpose()"
   ]
  },
  {
   "cell_type": "code",
   "execution_count": 6,
   "metadata": {},
   "outputs": [
    {
     "data": {
      "text/plain": [
       "np.int64(80)"
      ]
     },
     "execution_count": 6,
     "metadata": {},
     "output_type": "execute_result"
    }
   ],
   "source": [
    "data.duplicated().sum()"
   ]
  },
  {
   "cell_type": "code",
   "execution_count": 7,
   "metadata": {},
   "outputs": [],
   "source": [
    "data.drop_duplicates(inplace = True)"
   ]
  },
  {
   "cell_type": "code",
   "execution_count": 8,
   "metadata": {},
   "outputs": [
    {
     "data": {
      "text/plain": [
       "np.int64(0)"
      ]
     },
     "execution_count": 8,
     "metadata": {},
     "output_type": "execute_result"
    }
   ],
   "source": [
    "data.duplicated().sum()"
   ]
  },
  {
   "cell_type": "markdown",
   "metadata": {},
   "source": [
    "## EDA"
   ]
  },
  {
   "cell_type": "code",
   "execution_count": 9,
   "metadata": {},
   "outputs": [
    {
     "name": "stdout",
     "output_type": "stream",
     "text": [
      "         Height_(cm)    Weight_(kg)            BMI  Alcohol_Consumption  \\\n",
      "count  308774.000000  308774.000000  308774.000000        308774.000000   \n",
      "mean      170.615220      83.590399      28.626813             5.097557   \n",
      "std        10.658452      21.344664       6.522810             8.200434   \n",
      "min        91.000000      24.950000      12.020000             0.000000   \n",
      "25%       163.000000      68.040000      24.210000             0.000000   \n",
      "50%       170.000000      81.650000      27.440000             1.000000   \n",
      "75%       178.000000      95.250000      31.850000             6.000000   \n",
      "max       241.000000     293.020000      99.330000            30.000000   \n",
      "\n",
      "       Fruit_Consumption  Green_Vegetables_Consumption  \\\n",
      "count      308774.000000                 308774.000000   \n",
      "mean           29.834290                     15.109517   \n",
      "std            24.877812                     14.926912   \n",
      "min             0.000000                      0.000000   \n",
      "25%            12.000000                      4.000000   \n",
      "50%            30.000000                     12.000000   \n",
      "75%            30.000000                     20.000000   \n",
      "max           120.000000                    128.000000   \n",
      "\n",
      "       FriedPotato_Consumption  \n",
      "count            308774.000000  \n",
      "mean                  6.297237  \n",
      "std                   8.583837  \n",
      "min                   0.000000  \n",
      "25%                   2.000000  \n",
      "50%                   4.000000  \n",
      "75%                   8.000000  \n",
      "max                 128.000000  \n"
     ]
    }
   ],
   "source": [
    "# Summary statistics\n",
    "summary_stats = data.describe()\n",
    "print(summary_stats)"
   ]
  },
  {
   "cell_type": "code",
   "execution_count": 10,
   "metadata": {},
   "outputs": [
    {
     "data": {
      "text/plain": [
       "Index(['General_Health', 'Checkup', 'Exercise', 'Heart_Disease', 'Skin_Cancer',\n",
       "       'Other_Cancer', 'Depression', 'Diabetes', 'Arthritis', 'Sex',\n",
       "       'Age_Category', 'Height_(cm)', 'Weight_(kg)', 'BMI', 'Smoking_History',\n",
       "       'Alcohol_Consumption', 'Fruit_Consumption',\n",
       "       'Green_Vegetables_Consumption', 'FriedPotato_Consumption'],\n",
       "      dtype='object')"
      ]
     },
     "execution_count": 10,
     "metadata": {},
     "output_type": "execute_result"
    }
   ],
   "source": [
    "data.columns"
   ]
  },
  {
   "cell_type": "code",
   "execution_count": 11,
   "metadata": {},
   "outputs": [
    {
     "name": "stdout",
     "output_type": "stream",
     "text": [
      "Numerical Columns:  Index(['Height_(cm)', 'Weight_(kg)', 'BMI', 'Alcohol_Consumption',\n",
      "       'Fruit_Consumption', 'Green_Vegetables_Consumption',\n",
      "       'FriedPotato_Consumption'],\n",
      "      dtype='object')\n",
      "\n",
      "\n",
      "Categorical Columns: Index(['General_Health', 'Checkup', 'Exercise', 'Heart_Disease', 'Skin_Cancer',\n",
      "       'Other_Cancer', 'Depression', 'Diabetes', 'Arthritis', 'Sex',\n",
      "       'Age_Category', 'Smoking_History'],\n",
      "      dtype='object')\n"
     ]
    }
   ],
   "source": [
    "numerical= data.drop(['Heart_Disease'], axis=1).select_dtypes('number').columns\n",
    "categorical = data.select_dtypes('object').columns\n",
    "\n",
    "print(f'Numerical Columns:  {data[numerical].columns}')\n",
    "print('\\n')\n",
    "print(f'Categorical Columns: {data[categorical].columns}')"
   ]
  },
  {
   "cell_type": "code",
   "execution_count": 12,
   "metadata": {},
   "outputs": [
    {
     "data": {
      "text/html": [
       "<div>\n",
       "<style scoped>\n",
       "    .dataframe tbody tr th:only-of-type {\n",
       "        vertical-align: middle;\n",
       "    }\n",
       "\n",
       "    .dataframe tbody tr th {\n",
       "        vertical-align: top;\n",
       "    }\n",
       "\n",
       "    .dataframe thead th {\n",
       "        text-align: right;\n",
       "    }\n",
       "</style>\n",
       "<table border=\"1\" class=\"dataframe\">\n",
       "  <thead>\n",
       "    <tr style=\"text-align: right;\">\n",
       "      <th></th>\n",
       "      <th>General_Health</th>\n",
       "      <th>Checkup</th>\n",
       "      <th>Exercise</th>\n",
       "      <th>Heart_Disease</th>\n",
       "      <th>Skin_Cancer</th>\n",
       "      <th>Other_Cancer</th>\n",
       "      <th>Depression</th>\n",
       "      <th>Diabetes</th>\n",
       "      <th>Arthritis</th>\n",
       "      <th>Sex</th>\n",
       "      <th>Age_Category</th>\n",
       "      <th>Height_(cm)</th>\n",
       "      <th>Weight_(kg)</th>\n",
       "      <th>BMI</th>\n",
       "      <th>Smoking_History</th>\n",
       "      <th>Alcohol_Consumption</th>\n",
       "      <th>Fruit_Consumption</th>\n",
       "      <th>Green_Vegetables_Consumption</th>\n",
       "      <th>FriedPotato_Consumption</th>\n",
       "    </tr>\n",
       "  </thead>\n",
       "  <tbody>\n",
       "    <tr>\n",
       "      <th>0</th>\n",
       "      <td>3</td>\n",
       "      <td>2</td>\n",
       "      <td>0</td>\n",
       "      <td>0</td>\n",
       "      <td>0</td>\n",
       "      <td>0</td>\n",
       "      <td>0</td>\n",
       "      <td>0</td>\n",
       "      <td>1</td>\n",
       "      <td>0</td>\n",
       "      <td>10</td>\n",
       "      <td>150.0</td>\n",
       "      <td>32.66</td>\n",
       "      <td>14.54</td>\n",
       "      <td>1</td>\n",
       "      <td>0.0</td>\n",
       "      <td>30.0</td>\n",
       "      <td>16.0</td>\n",
       "      <td>12.0</td>\n",
       "    </tr>\n",
       "    <tr>\n",
       "      <th>1</th>\n",
       "      <td>4</td>\n",
       "      <td>4</td>\n",
       "      <td>0</td>\n",
       "      <td>1</td>\n",
       "      <td>0</td>\n",
       "      <td>0</td>\n",
       "      <td>0</td>\n",
       "      <td>2</td>\n",
       "      <td>0</td>\n",
       "      <td>0</td>\n",
       "      <td>10</td>\n",
       "      <td>165.0</td>\n",
       "      <td>77.11</td>\n",
       "      <td>28.29</td>\n",
       "      <td>0</td>\n",
       "      <td>0.0</td>\n",
       "      <td>30.0</td>\n",
       "      <td>0.0</td>\n",
       "      <td>4.0</td>\n",
       "    </tr>\n",
       "    <tr>\n",
       "      <th>2</th>\n",
       "      <td>4</td>\n",
       "      <td>4</td>\n",
       "      <td>1</td>\n",
       "      <td>0</td>\n",
       "      <td>0</td>\n",
       "      <td>0</td>\n",
       "      <td>0</td>\n",
       "      <td>2</td>\n",
       "      <td>0</td>\n",
       "      <td>0</td>\n",
       "      <td>8</td>\n",
       "      <td>163.0</td>\n",
       "      <td>88.45</td>\n",
       "      <td>33.47</td>\n",
       "      <td>0</td>\n",
       "      <td>4.0</td>\n",
       "      <td>12.0</td>\n",
       "      <td>3.0</td>\n",
       "      <td>16.0</td>\n",
       "    </tr>\n",
       "    <tr>\n",
       "      <th>3</th>\n",
       "      <td>3</td>\n",
       "      <td>4</td>\n",
       "      <td>1</td>\n",
       "      <td>1</td>\n",
       "      <td>0</td>\n",
       "      <td>0</td>\n",
       "      <td>0</td>\n",
       "      <td>2</td>\n",
       "      <td>0</td>\n",
       "      <td>1</td>\n",
       "      <td>11</td>\n",
       "      <td>180.0</td>\n",
       "      <td>93.44</td>\n",
       "      <td>28.73</td>\n",
       "      <td>0</td>\n",
       "      <td>0.0</td>\n",
       "      <td>30.0</td>\n",
       "      <td>30.0</td>\n",
       "      <td>8.0</td>\n",
       "    </tr>\n",
       "    <tr>\n",
       "      <th>4</th>\n",
       "      <td>2</td>\n",
       "      <td>4</td>\n",
       "      <td>0</td>\n",
       "      <td>0</td>\n",
       "      <td>0</td>\n",
       "      <td>0</td>\n",
       "      <td>0</td>\n",
       "      <td>0</td>\n",
       "      <td>0</td>\n",
       "      <td>1</td>\n",
       "      <td>12</td>\n",
       "      <td>191.0</td>\n",
       "      <td>88.45</td>\n",
       "      <td>24.37</td>\n",
       "      <td>1</td>\n",
       "      <td>0.0</td>\n",
       "      <td>8.0</td>\n",
       "      <td>4.0</td>\n",
       "      <td>0.0</td>\n",
       "    </tr>\n",
       "  </tbody>\n",
       "</table>\n",
       "</div>"
      ],
      "text/plain": [
       "   General_Health  Checkup  Exercise  Heart_Disease  Skin_Cancer  \\\n",
       "0               3        2         0              0            0   \n",
       "1               4        4         0              1            0   \n",
       "2               4        4         1              0            0   \n",
       "3               3        4         1              1            0   \n",
       "4               2        4         0              0            0   \n",
       "\n",
       "   Other_Cancer  Depression  Diabetes  Arthritis  Sex  Age_Category  \\\n",
       "0             0           0         0          1    0            10   \n",
       "1             0           0         2          0    0            10   \n",
       "2             0           0         2          0    0             8   \n",
       "3             0           0         2          0    1            11   \n",
       "4             0           0         0          0    1            12   \n",
       "\n",
       "   Height_(cm)  Weight_(kg)    BMI  Smoking_History  Alcohol_Consumption  \\\n",
       "0        150.0        32.66  14.54                1                  0.0   \n",
       "1        165.0        77.11  28.29                0                  0.0   \n",
       "2        163.0        88.45  33.47                0                  4.0   \n",
       "3        180.0        93.44  28.73                0                  0.0   \n",
       "4        191.0        88.45  24.37                1                  0.0   \n",
       "\n",
       "   Fruit_Consumption  Green_Vegetables_Consumption  FriedPotato_Consumption  \n",
       "0               30.0                          16.0                     12.0  \n",
       "1               30.0                           0.0                      4.0  \n",
       "2               12.0                           3.0                     16.0  \n",
       "3               30.0                          30.0                      8.0  \n",
       "4                8.0                           4.0                      0.0  "
      ]
     },
     "execution_count": 12,
     "metadata": {},
     "output_type": "execute_result"
    }
   ],
   "source": [
    "from sklearn.preprocessing import MinMaxScaler,StandardScaler, LabelEncoder\n",
    "mms = MinMaxScaler() # Normalization\n",
    "ss = StandardScaler() # Standardization\n",
    "le = LabelEncoder()\n",
    "df1 = data.copy(deep = True)\n",
    "\n",
    "# LabelEncoder Categorical values \n",
    "for col in categorical:\n",
    "\tdf1[col] = le.fit_transform(df1[col])\n",
    "\n",
    "df1.head()"
   ]
  },
  {
   "cell_type": "code",
   "execution_count": 13,
   "metadata": {},
   "outputs": [
    {
     "name": "stdout",
     "output_type": "stream",
     "text": [
      "                              General_Health   Checkup  Exercise  \\\n",
      "General_Health                      1.000000  0.027431  0.036864   \n",
      "Checkup                             0.027431  1.000000 -0.029803   \n",
      "Exercise                            0.036864 -0.029803  1.000000   \n",
      "Heart_Disease                      -0.020640  0.083513 -0.096321   \n",
      "Skin_Cancer                         0.020864  0.079313 -0.003963   \n",
      "Other_Cancer                        0.004456  0.086779 -0.054363   \n",
      "Depression                          0.002313  0.035674 -0.084673   \n",
      "Diabetes                           -0.025157  0.127858 -0.136589   \n",
      "Arthritis                           0.014013  0.150225 -0.124785   \n",
      "Sex                                -0.013733 -0.100058  0.059355   \n",
      "Age_Category                        0.032378  0.223116 -0.122334   \n",
      "Height_(cm)                         0.001634 -0.088951  0.091622   \n",
      "Weight_(kg)                         0.014861  0.012043 -0.090121   \n",
      "BMI                                 0.013967  0.060903 -0.155732   \n",
      "Smoking_History                     0.004324 -0.010064 -0.093241   \n",
      "Alcohol_Consumption                 0.023673 -0.046631  0.095028   \n",
      "Fruit_Consumption                  -0.010957  0.039297  0.136782   \n",
      "Green_Vegetables_Consumption       -0.021517  0.034925  0.124983   \n",
      "FriedPotato_Consumption            -0.000682 -0.055706 -0.036904   \n",
      "\n",
      "                              Heart_Disease  Skin_Cancer  Other_Cancer  \\\n",
      "General_Health                    -0.020640     0.020864      0.004456   \n",
      "Checkup                            0.083513     0.079313      0.086779   \n",
      "Exercise                          -0.096321    -0.003963     -0.054363   \n",
      "Heart_Disease                      1.000000     0.090835      0.092369   \n",
      "Skin_Cancer                        0.090835     1.000000      0.150781   \n",
      "Other_Cancer                       0.092369     0.150781      1.000000   \n",
      "Depression                         0.032494    -0.013041      0.015861   \n",
      "Diabetes                           0.166218     0.032947      0.063873   \n",
      "Arthritis                          0.153891     0.136146      0.129320   \n",
      "Sex                                0.072606     0.009658     -0.042061   \n",
      "Age_Category                       0.229027     0.272075      0.234464   \n",
      "Height_(cm)                        0.015783     0.006799     -0.043476   \n",
      "Weight_(kg)                        0.045854    -0.028986     -0.021169   \n",
      "BMI                                0.042642    -0.037647      0.001015   \n",
      "Smoking_History                    0.107757     0.032793      0.053390   \n",
      "Alcohol_Consumption               -0.036614     0.042734     -0.008704   \n",
      "Fruit_Consumption                 -0.020045     0.024143      0.007992   \n",
      "Green_Vegetables_Consumption      -0.024027     0.012894     -0.003215   \n",
      "FriedPotato_Consumption           -0.009249    -0.038945     -0.033326   \n",
      "\n",
      "                              Depression  Diabetes  Arthritis       Sex  \\\n",
      "General_Health                  0.002313 -0.025157   0.014013 -0.013733   \n",
      "Checkup                         0.035674  0.127858   0.150225 -0.100058   \n",
      "Exercise                       -0.084673 -0.136589  -0.124785  0.059355   \n",
      "Heart_Disease                   0.032494  0.166218   0.153891  0.072606   \n",
      "Skin_Cancer                    -0.013041  0.032947   0.136146  0.009658   \n",
      "Other_Cancer                    0.015861  0.063873   0.129320 -0.042061   \n",
      "Depression                      1.000000  0.053115   0.121562 -0.141457   \n",
      "Diabetes                        0.053115  1.000000   0.133839 -0.013135   \n",
      "Arthritis                       0.121562  0.133839   1.000000 -0.100047   \n",
      "Sex                            -0.141457 -0.013135  -0.100047  1.000000   \n",
      "Age_Category                   -0.103195  0.192806   0.370996 -0.060234   \n",
      "Height_(cm)                    -0.091315 -0.043093  -0.097794  0.698129   \n",
      "Weight_(kg)                     0.047904  0.158194   0.074068  0.353989   \n",
      "BMI                             0.109557  0.205292   0.137924  0.010978   \n",
      "Smoking_History                 0.100215  0.053720   0.123128  0.073407   \n",
      "Alcohol_Consumption            -0.028200 -0.114255  -0.024968  0.129311   \n",
      "Fruit_Consumption              -0.039938 -0.019085  -0.001983 -0.092486   \n",
      "Green_Vegetables_Consumption   -0.051134 -0.027333  -0.018803 -0.069169   \n",
      "FriedPotato_Consumption         0.018108 -0.004281  -0.050994  0.130049   \n",
      "\n",
      "                              Age_Category  Height_(cm)  Weight_(kg)  \\\n",
      "General_Health                    0.032378     0.001634     0.014861   \n",
      "Checkup                           0.223116    -0.088951     0.012043   \n",
      "Exercise                         -0.122334     0.091622    -0.090121   \n",
      "Heart_Disease                     0.229027     0.015783     0.045854   \n",
      "Skin_Cancer                       0.272075     0.006799    -0.028986   \n",
      "Other_Cancer                      0.234464    -0.043476    -0.021169   \n",
      "Depression                       -0.103195    -0.091315     0.047904   \n",
      "Diabetes                          0.192806    -0.043093     0.158194   \n",
      "Arthritis                         0.370996    -0.097794     0.074068   \n",
      "Sex                              -0.060234     0.698129     0.353989   \n",
      "Age_Category                      1.000000    -0.120922    -0.062308   \n",
      "Height_(cm)                      -0.120922     1.000000     0.472175   \n",
      "Weight_(kg)                      -0.062308     0.472175     1.000000   \n",
      "BMI                              -0.007426    -0.027413     0.859702   \n",
      "Smoking_History                   0.133155     0.051762     0.047481   \n",
      "Alcohol_Consumption               0.012833     0.128850    -0.032427   \n",
      "Fruit_Consumption                 0.043661    -0.045925    -0.090611   \n",
      "Green_Vegetables_Consumption      0.036030    -0.030153    -0.075895   \n",
      "FriedPotato_Consumption          -0.142761     0.108790     0.096327   \n",
      "\n",
      "                                   BMI  Smoking_History  Alcohol_Consumption  \\\n",
      "General_Health                0.013967         0.004324             0.023673   \n",
      "Checkup                       0.060903        -0.010064            -0.046631   \n",
      "Exercise                     -0.155732        -0.093241             0.095028   \n",
      "Heart_Disease                 0.042642         0.107757            -0.036614   \n",
      "Skin_Cancer                  -0.037647         0.032793             0.042734   \n",
      "Other_Cancer                  0.001015         0.053390            -0.008704   \n",
      "Depression                    0.109557         0.100215            -0.028200   \n",
      "Diabetes                      0.205292         0.053720            -0.114255   \n",
      "Arthritis                     0.137924         0.123128            -0.024968   \n",
      "Sex                           0.010978         0.073407             0.129311   \n",
      "Age_Category                 -0.007426         0.133155             0.012833   \n",
      "Height_(cm)                  -0.027413         0.051762             0.128850   \n",
      "Weight_(kg)                   0.859702         0.047481            -0.032427   \n",
      "BMI                           1.000000         0.024794            -0.108750   \n",
      "Smoking_History               0.024794         1.000000             0.100553   \n",
      "Alcohol_Consumption          -0.108750         0.100553             1.000000   \n",
      "Fruit_Consumption            -0.076603        -0.093626            -0.012542   \n",
      "Green_Vegetables_Consumption -0.070629        -0.034371             0.060088   \n",
      "FriedPotato_Consumption       0.048343         0.035824             0.020503   \n",
      "\n",
      "                              Fruit_Consumption  Green_Vegetables_Consumption  \\\n",
      "General_Health                        -0.010957                     -0.021517   \n",
      "Checkup                                0.039297                      0.034925   \n",
      "Exercise                               0.136782                      0.124983   \n",
      "Heart_Disease                         -0.020045                     -0.024027   \n",
      "Skin_Cancer                            0.024143                      0.012894   \n",
      "Other_Cancer                           0.007992                     -0.003215   \n",
      "Depression                            -0.039938                     -0.051134   \n",
      "Diabetes                              -0.019085                     -0.027333   \n",
      "Arthritis                             -0.001983                     -0.018803   \n",
      "Sex                                   -0.092486                     -0.069169   \n",
      "Age_Category                           0.043661                      0.036030   \n",
      "Height_(cm)                           -0.045925                     -0.030153   \n",
      "Weight_(kg)                           -0.090611                     -0.075895   \n",
      "BMI                                   -0.076603                     -0.070629   \n",
      "Smoking_History                       -0.093626                     -0.034371   \n",
      "Alcohol_Consumption                   -0.012542                      0.060088   \n",
      "Fruit_Consumption                      1.000000                      0.270426   \n",
      "Green_Vegetables_Consumption           0.270426                      1.000000   \n",
      "FriedPotato_Consumption               -0.060302                      0.003209   \n",
      "\n",
      "                              FriedPotato_Consumption  \n",
      "General_Health                              -0.000682  \n",
      "Checkup                                     -0.055706  \n",
      "Exercise                                    -0.036904  \n",
      "Heart_Disease                               -0.009249  \n",
      "Skin_Cancer                                 -0.038945  \n",
      "Other_Cancer                                -0.033326  \n",
      "Depression                                   0.018108  \n",
      "Diabetes                                    -0.004281  \n",
      "Arthritis                                   -0.050994  \n",
      "Sex                                          0.130049  \n",
      "Age_Category                                -0.142761  \n",
      "Height_(cm)                                  0.108790  \n",
      "Weight_(kg)                                  0.096327  \n",
      "BMI                                          0.048343  \n",
      "Smoking_History                              0.035824  \n",
      "Alcohol_Consumption                          0.020503  \n",
      "Fruit_Consumption                           -0.060302  \n",
      "Green_Vegetables_Consumption                 0.003209  \n",
      "FriedPotato_Consumption                      1.000000  \n"
     ]
    }
   ],
   "source": [
    "# Correlation matrix\n",
    "correlation_matrix = df1.corr()\n",
    "print(correlation_matrix)"
   ]
  },
  {
   "cell_type": "code",
   "execution_count": 14,
   "metadata": {},
   "outputs": [
    {
     "data": {
      "image/png": "[encoded data removed]",
      "text/plain": [
       "<Figure size 2000x1500 with 2 Axes>"
      ]
     },
     "metadata": {},
     "output_type": "display_data"
    }
   ],
   "source": [
    "f,ax = plt.subplots(figsize=[20,15])\n",
    "sns.heatmap(df1.corr(), annot=True, fmt = '.2f', ax=ax, cmap='magma')\n",
    "ax.set_title(\"Correlation Matrix\", fontsize=20)\n",
    "plt.show()"
   ]
  },
  {
   "cell_type": "code",
   "execution_count": 15,
   "metadata": {},
   "outputs": [
    {
     "data": {
      "text/plain": [
       "Index(['Heart_Disease', 'Age_Category'], dtype='object')"
      ]
     },
     "execution_count": 15,
     "metadata": {},
     "output_type": "execute_result"
    }
   ],
   "source": [
    "hig_corr = df1.corr()\n",
    "hig_corr_features = hig_corr.index[abs(hig_corr[\"Heart_Disease\"]) >= 0.2]\n",
    "hig_corr_features"
   ]
  },
  {
   "cell_type": "markdown",
   "metadata": {},
   "source": [
    "## Remove outliers"
   ]
  },
  {
   "cell_type": "code",
   "execution_count": 16,
   "metadata": {},
   "outputs": [
    {
     "data": {
      "text/plain": [
       "(308774, 19)"
      ]
     },
     "execution_count": 16,
     "metadata": {},
     "output_type": "execute_result"
    }
   ],
   "source": [
    "df1.shape"
   ]
  },
  {
   "cell_type": "code",
   "execution_count": 17,
   "metadata": {},
   "outputs": [
    {
     "data": {
      "text/html": [
       "<div>\n",
       "<style scoped>\n",
       "    .dataframe tbody tr th:only-of-type {\n",
       "        vertical-align: middle;\n",
       "    }\n",
       "\n",
       "    .dataframe tbody tr th {\n",
       "        vertical-align: top;\n",
       "    }\n",
       "\n",
       "    .dataframe thead th {\n",
       "        text-align: right;\n",
       "    }\n",
       "</style>\n",
       "<table border=\"1\" class=\"dataframe\">\n",
       "  <thead>\n",
       "    <tr style=\"text-align: right;\">\n",
       "      <th></th>\n",
       "      <th>General_Health</th>\n",
       "      <th>Checkup</th>\n",
       "      <th>Exercise</th>\n",
       "      <th>Heart_Disease</th>\n",
       "      <th>Skin_Cancer</th>\n",
       "      <th>Other_Cancer</th>\n",
       "      <th>Depression</th>\n",
       "      <th>Diabetes</th>\n",
       "      <th>Arthritis</th>\n",
       "      <th>Sex</th>\n",
       "      <th>Age_Category</th>\n",
       "      <th>Height_(cm)</th>\n",
       "      <th>Weight_(kg)</th>\n",
       "      <th>BMI</th>\n",
       "      <th>Smoking_History</th>\n",
       "      <th>Alcohol_Consumption</th>\n",
       "      <th>Fruit_Consumption</th>\n",
       "      <th>Green_Vegetables_Consumption</th>\n",
       "      <th>FriedPotato_Consumption</th>\n",
       "    </tr>\n",
       "  </thead>\n",
       "  <tbody>\n",
       "    <tr>\n",
       "      <th>0</th>\n",
       "      <td>3</td>\n",
       "      <td>2</td>\n",
       "      <td>0</td>\n",
       "      <td>0</td>\n",
       "      <td>0</td>\n",
       "      <td>0</td>\n",
       "      <td>0</td>\n",
       "      <td>0</td>\n",
       "      <td>1</td>\n",
       "      <td>0</td>\n",
       "      <td>10</td>\n",
       "      <td>150.0</td>\n",
       "      <td>32.66</td>\n",
       "      <td>14.54</td>\n",
       "      <td>1</td>\n",
       "      <td>0.0</td>\n",
       "      <td>30.0</td>\n",
       "      <td>16.0</td>\n",
       "      <td>12.0</td>\n",
       "    </tr>\n",
       "    <tr>\n",
       "      <th>1</th>\n",
       "      <td>4</td>\n",
       "      <td>4</td>\n",
       "      <td>0</td>\n",
       "      <td>1</td>\n",
       "      <td>0</td>\n",
       "      <td>0</td>\n",
       "      <td>0</td>\n",
       "      <td>2</td>\n",
       "      <td>0</td>\n",
       "      <td>0</td>\n",
       "      <td>10</td>\n",
       "      <td>165.0</td>\n",
       "      <td>77.11</td>\n",
       "      <td>28.29</td>\n",
       "      <td>0</td>\n",
       "      <td>0.0</td>\n",
       "      <td>30.0</td>\n",
       "      <td>0.0</td>\n",
       "      <td>4.0</td>\n",
       "    </tr>\n",
       "    <tr>\n",
       "      <th>2</th>\n",
       "      <td>4</td>\n",
       "      <td>4</td>\n",
       "      <td>1</td>\n",
       "      <td>0</td>\n",
       "      <td>0</td>\n",
       "      <td>0</td>\n",
       "      <td>0</td>\n",
       "      <td>2</td>\n",
       "      <td>0</td>\n",
       "      <td>0</td>\n",
       "      <td>8</td>\n",
       "      <td>163.0</td>\n",
       "      <td>88.45</td>\n",
       "      <td>33.47</td>\n",
       "      <td>0</td>\n",
       "      <td>4.0</td>\n",
       "      <td>12.0</td>\n",
       "      <td>3.0</td>\n",
       "      <td>16.0</td>\n",
       "    </tr>\n",
       "    <tr>\n",
       "      <th>3</th>\n",
       "      <td>3</td>\n",
       "      <td>4</td>\n",
       "      <td>1</td>\n",
       "      <td>1</td>\n",
       "      <td>0</td>\n",
       "      <td>0</td>\n",
       "      <td>0</td>\n",
       "      <td>2</td>\n",
       "      <td>0</td>\n",
       "      <td>1</td>\n",
       "      <td>11</td>\n",
       "      <td>180.0</td>\n",
       "      <td>93.44</td>\n",
       "      <td>28.73</td>\n",
       "      <td>0</td>\n",
       "      <td>0.0</td>\n",
       "      <td>30.0</td>\n",
       "      <td>30.0</td>\n",
       "      <td>8.0</td>\n",
       "    </tr>\n",
       "    <tr>\n",
       "      <th>4</th>\n",
       "      <td>2</td>\n",
       "      <td>4</td>\n",
       "      <td>0</td>\n",
       "      <td>0</td>\n",
       "      <td>0</td>\n",
       "      <td>0</td>\n",
       "      <td>0</td>\n",
       "      <td>0</td>\n",
       "      <td>0</td>\n",
       "      <td>1</td>\n",
       "      <td>12</td>\n",
       "      <td>191.0</td>\n",
       "      <td>88.45</td>\n",
       "      <td>24.37</td>\n",
       "      <td>1</td>\n",
       "      <td>0.0</td>\n",
       "      <td>8.0</td>\n",
       "      <td>4.0</td>\n",
       "      <td>0.0</td>\n",
       "    </tr>\n",
       "  </tbody>\n",
       "</table>\n",
       "</div>"
      ],
      "text/plain": [
       "   General_Health  Checkup  Exercise  Heart_Disease  Skin_Cancer  \\\n",
       "0               3        2         0              0            0   \n",
       "1               4        4         0              1            0   \n",
       "2               4        4         1              0            0   \n",
       "3               3        4         1              1            0   \n",
       "4               2        4         0              0            0   \n",
       "\n",
       "   Other_Cancer  Depression  Diabetes  Arthritis  Sex  Age_Category  \\\n",
       "0             0           0         0          1    0            10   \n",
       "1             0           0         2          0    0            10   \n",
       "2             0           0         2          0    0             8   \n",
       "3             0           0         2          0    1            11   \n",
       "4             0           0         0          0    1            12   \n",
       "\n",
       "   Height_(cm)  Weight_(kg)    BMI  Smoking_History  Alcohol_Consumption  \\\n",
       "0        150.0        32.66  14.54                1                  0.0   \n",
       "1        165.0        77.11  28.29                0                  0.0   \n",
       "2        163.0        88.45  33.47                0                  4.0   \n",
       "3        180.0        93.44  28.73                0                  0.0   \n",
       "4        191.0        88.45  24.37                1                  0.0   \n",
       "\n",
       "   Fruit_Consumption  Green_Vegetables_Consumption  FriedPotato_Consumption  \n",
       "0               30.0                          16.0                     12.0  \n",
       "1               30.0                           0.0                      4.0  \n",
       "2               12.0                           3.0                     16.0  \n",
       "3               30.0                          30.0                      8.0  \n",
       "4                8.0                           4.0                      0.0  "
      ]
     },
     "execution_count": 17,
     "metadata": {},
     "output_type": "execute_result"
    }
   ],
   "source": [
    "df1.head()"
   ]
  },
  {
   "cell_type": "code",
   "execution_count": 18,
   "metadata": {},
   "outputs": [
    {
     "data": {
      "text/plain": [
       "(170651, 19)"
      ]
     },
     "execution_count": 18,
     "metadata": {},
     "output_type": "execute_result"
    }
   ],
   "source": [
    "# remove outlier by 98% percentile \n",
    "for col in numerical:\n",
    "\tq = df1[col].quantile(0.95)\n",
    "\tdf1 = df1[df1[col] < q]\n",
    "\n",
    "df1.shape"
   ]
  },
  {
   "cell_type": "markdown",
   "metadata": {},
   "source": [
    "### Split train/test "
   ]
  },
  {
   "cell_type": "code",
   "execution_count": 19,
   "metadata": {},
   "outputs": [
    {
     "data": {
      "text/plain": [
       "Heart_Disease\n",
       "0    156828\n",
       "1     13823\n",
       "Name: count, dtype: int64"
      ]
     },
     "execution_count": 19,
     "metadata": {},
     "output_type": "execute_result"
    }
   ],
   "source": [
    "# Separate data features by removing the data label.\n",
    "X = df1.drop(columns=[\"Heart_Disease\"], axis=1)\n",
    "\n",
    "# Assign data label to variable y\n",
    "y = df1.Heart_Disease\n",
    "\n",
    "y.value_counts()"
   ]
  },
  {
   "cell_type": "markdown",
   "metadata": {},
   "source": [
    "### Feature Selection"
   ]
  },
  {
   "cell_type": "code",
   "execution_count": 20,
   "metadata": {},
   "outputs": [
    {
     "name": "stdout",
     "output_type": "stream",
     "text": [
      "Index(['General_Health', 'Checkup', 'Exercise', 'Diabetes', 'Arthritis', 'Sex',\n",
      "       'Age_Category', 'Weight_(kg)', 'Smoking_History', 'Alcohol_Consumption',\n",
      "       'Fruit_Consumption', 'Green_Vegetables_Consumption'],\n",
      "      dtype='object')\n"
     ]
    }
   ],
   "source": [
    "from sklearn.feature_selection import SelectKBest, mutual_info_classif\n",
    "\n",
    "selector = SelectKBest(score_func=mutual_info_classif, k=12)\n",
    "X_new = selector.fit_transform(X, y)\n",
    "\n",
    "# Map the selected indices to the feature names\n",
    "important_features = X.columns[selector.get_support(indices=True)]\n",
    "\n",
    "# Display the selected features\n",
    "print(important_features)"
   ]
  },
  {
   "cell_type": "code",
   "execution_count": 21,
   "metadata": {},
   "outputs": [
    {
     "data": {
      "text/html": [
       "<div>\n",
       "<style scoped>\n",
       "    .dataframe tbody tr th:only-of-type {\n",
       "        vertical-align: middle;\n",
       "    }\n",
       "\n",
       "    .dataframe tbody tr th {\n",
       "        vertical-align: top;\n",
       "    }\n",
       "\n",
       "    .dataframe thead th {\n",
       "        text-align: right;\n",
       "    }\n",
       "</style>\n",
       "<table border=\"1\" class=\"dataframe\">\n",
       "  <thead>\n",
       "    <tr style=\"text-align: right;\">\n",
       "      <th></th>\n",
       "      <th>General_Health</th>\n",
       "      <th>Checkup</th>\n",
       "      <th>Exercise</th>\n",
       "      <th>Diabetes</th>\n",
       "      <th>Arthritis</th>\n",
       "      <th>Sex</th>\n",
       "      <th>Age_Category</th>\n",
       "      <th>Weight_(kg)</th>\n",
       "      <th>Smoking_History</th>\n",
       "      <th>Alcohol_Consumption</th>\n",
       "      <th>Fruit_Consumption</th>\n",
       "      <th>Green_Vegetables_Consumption</th>\n",
       "    </tr>\n",
       "  </thead>\n",
       "  <tbody>\n",
       "    <tr>\n",
       "      <th>0</th>\n",
       "      <td>3.0</td>\n",
       "      <td>2.0</td>\n",
       "      <td>0.0</td>\n",
       "      <td>0.0</td>\n",
       "      <td>1.0</td>\n",
       "      <td>0.0</td>\n",
       "      <td>10.0</td>\n",
       "      <td>32.66</td>\n",
       "      <td>1.0</td>\n",
       "      <td>0.0</td>\n",
       "      <td>30.0</td>\n",
       "      <td>16.0</td>\n",
       "    </tr>\n",
       "    <tr>\n",
       "      <th>1</th>\n",
       "      <td>4.0</td>\n",
       "      <td>4.0</td>\n",
       "      <td>0.0</td>\n",
       "      <td>2.0</td>\n",
       "      <td>0.0</td>\n",
       "      <td>0.0</td>\n",
       "      <td>10.0</td>\n",
       "      <td>77.11</td>\n",
       "      <td>0.0</td>\n",
       "      <td>0.0</td>\n",
       "      <td>30.0</td>\n",
       "      <td>0.0</td>\n",
       "    </tr>\n",
       "    <tr>\n",
       "      <th>2</th>\n",
       "      <td>4.0</td>\n",
       "      <td>4.0</td>\n",
       "      <td>1.0</td>\n",
       "      <td>2.0</td>\n",
       "      <td>0.0</td>\n",
       "      <td>0.0</td>\n",
       "      <td>8.0</td>\n",
       "      <td>88.45</td>\n",
       "      <td>0.0</td>\n",
       "      <td>4.0</td>\n",
       "      <td>12.0</td>\n",
       "      <td>3.0</td>\n",
       "    </tr>\n",
       "    <tr>\n",
       "      <th>3</th>\n",
       "      <td>1.0</td>\n",
       "      <td>4.0</td>\n",
       "      <td>1.0</td>\n",
       "      <td>0.0</td>\n",
       "      <td>1.0</td>\n",
       "      <td>1.0</td>\n",
       "      <td>8.0</td>\n",
       "      <td>69.85</td>\n",
       "      <td>1.0</td>\n",
       "      <td>0.0</td>\n",
       "      <td>16.0</td>\n",
       "      <td>8.0</td>\n",
       "    </tr>\n",
       "    <tr>\n",
       "      <th>4</th>\n",
       "      <td>1.0</td>\n",
       "      <td>4.0</td>\n",
       "      <td>0.0</td>\n",
       "      <td>0.0</td>\n",
       "      <td>0.0</td>\n",
       "      <td>0.0</td>\n",
       "      <td>9.0</td>\n",
       "      <td>72.57</td>\n",
       "      <td>1.0</td>\n",
       "      <td>0.0</td>\n",
       "      <td>12.0</td>\n",
       "      <td>12.0</td>\n",
       "    </tr>\n",
       "  </tbody>\n",
       "</table>\n",
       "</div>"
      ],
      "text/plain": [
       "   General_Health  Checkup  Exercise  Diabetes  Arthritis  Sex  Age_Category  \\\n",
       "0             3.0      2.0       0.0       0.0        1.0  0.0          10.0   \n",
       "1             4.0      4.0       0.0       2.0        0.0  0.0          10.0   \n",
       "2             4.0      4.0       1.0       2.0        0.0  0.0           8.0   \n",
       "3             1.0      4.0       1.0       0.0        1.0  1.0           8.0   \n",
       "4             1.0      4.0       0.0       0.0        0.0  0.0           9.0   \n",
       "\n",
       "   Weight_(kg)  Smoking_History  Alcohol_Consumption  Fruit_Consumption  \\\n",
       "0        32.66              1.0                  0.0               30.0   \n",
       "1        77.11              0.0                  0.0               30.0   \n",
       "2        88.45              0.0                  4.0               12.0   \n",
       "3        69.85              1.0                  0.0               16.0   \n",
       "4        72.57              1.0                  0.0               12.0   \n",
       "\n",
       "   Green_Vegetables_Consumption  \n",
       "0                          16.0  \n",
       "1                           0.0  \n",
       "2                           3.0  \n",
       "3                           8.0  \n",
       "4                          12.0  "
      ]
     },
     "execution_count": 21,
     "metadata": {},
     "output_type": "execute_result"
    }
   ],
   "source": [
    "X_selected = pd.DataFrame(X_new, columns=important_features)\n",
    "X_selected.head()"
   ]
  },
  {
   "cell_type": "markdown",
   "metadata": {},
   "source": [
    "### Handling imbalance"
   ]
  },
  {
   "cell_type": "code",
   "execution_count": 22,
   "metadata": {},
   "outputs": [],
   "source": [
    "from imblearn.under_sampling import NearMiss\n",
    "\n",
    "nm = NearMiss(version=1, n_neighbors=5)\n",
    "\n",
    "x_sm, y_sm = nm.fit_resample(X_selected, y)"
   ]
  },
  {
   "cell_type": "code",
   "execution_count": 23,
   "metadata": {},
   "outputs": [
    {
     "data": {
      "text/plain": [
       "Heart_Disease\n",
       "0    13823\n",
       "1    13823\n",
       "Name: count, dtype: int64"
      ]
     },
     "execution_count": 23,
     "metadata": {},
     "output_type": "execute_result"
    }
   ],
   "source": [
    "y_sm.value_counts()"
   ]
  },
  {
   "cell_type": "code",
   "execution_count": 24,
   "metadata": {},
   "outputs": [
    {
     "data": {
      "text/html": [
       "<div>\n",
       "<style scoped>\n",
       "    .dataframe tbody tr th:only-of-type {\n",
       "        vertical-align: middle;\n",
       "    }\n",
       "\n",
       "    .dataframe tbody tr th {\n",
       "        vertical-align: top;\n",
       "    }\n",
       "\n",
       "    .dataframe thead th {\n",
       "        text-align: right;\n",
       "    }\n",
       "</style>\n",
       "<table border=\"1\" class=\"dataframe\">\n",
       "  <thead>\n",
       "    <tr style=\"text-align: right;\">\n",
       "      <th></th>\n",
       "      <th>General_Health</th>\n",
       "      <th>Checkup</th>\n",
       "      <th>Exercise</th>\n",
       "      <th>Diabetes</th>\n",
       "      <th>Arthritis</th>\n",
       "      <th>Sex</th>\n",
       "      <th>Age_Category</th>\n",
       "      <th>Weight_(kg)</th>\n",
       "      <th>Smoking_History</th>\n",
       "      <th>Alcohol_Consumption</th>\n",
       "      <th>Fruit_Consumption</th>\n",
       "      <th>Green_Vegetables_Consumption</th>\n",
       "    </tr>\n",
       "  </thead>\n",
       "  <tbody>\n",
       "    <tr>\n",
       "      <th>0</th>\n",
       "      <td>2.0</td>\n",
       "      <td>4.0</td>\n",
       "      <td>1.0</td>\n",
       "      <td>0.0</td>\n",
       "      <td>1.0</td>\n",
       "      <td>0.0</td>\n",
       "      <td>12.0</td>\n",
       "      <td>58.97</td>\n",
       "      <td>0.0</td>\n",
       "      <td>0.0</td>\n",
       "      <td>30.0</td>\n",
       "      <td>8.0</td>\n",
       "    </tr>\n",
       "    <tr>\n",
       "      <th>1</th>\n",
       "      <td>2.0</td>\n",
       "      <td>4.0</td>\n",
       "      <td>1.0</td>\n",
       "      <td>0.0</td>\n",
       "      <td>1.0</td>\n",
       "      <td>0.0</td>\n",
       "      <td>12.0</td>\n",
       "      <td>58.97</td>\n",
       "      <td>1.0</td>\n",
       "      <td>0.0</td>\n",
       "      <td>30.0</td>\n",
       "      <td>8.0</td>\n",
       "    </tr>\n",
       "    <tr>\n",
       "      <th>2</th>\n",
       "      <td>2.0</td>\n",
       "      <td>4.0</td>\n",
       "      <td>1.0</td>\n",
       "      <td>0.0</td>\n",
       "      <td>1.0</td>\n",
       "      <td>0.0</td>\n",
       "      <td>11.0</td>\n",
       "      <td>81.65</td>\n",
       "      <td>0.0</td>\n",
       "      <td>0.0</td>\n",
       "      <td>30.0</td>\n",
       "      <td>4.0</td>\n",
       "    </tr>\n",
       "    <tr>\n",
       "      <th>3</th>\n",
       "      <td>2.0</td>\n",
       "      <td>4.0</td>\n",
       "      <td>1.0</td>\n",
       "      <td>0.0</td>\n",
       "      <td>1.0</td>\n",
       "      <td>0.0</td>\n",
       "      <td>11.0</td>\n",
       "      <td>81.65</td>\n",
       "      <td>0.0</td>\n",
       "      <td>0.0</td>\n",
       "      <td>30.0</td>\n",
       "      <td>4.0</td>\n",
       "    </tr>\n",
       "    <tr>\n",
       "      <th>4</th>\n",
       "      <td>2.0</td>\n",
       "      <td>4.0</td>\n",
       "      <td>1.0</td>\n",
       "      <td>0.0</td>\n",
       "      <td>1.0</td>\n",
       "      <td>0.0</td>\n",
       "      <td>11.0</td>\n",
       "      <td>81.65</td>\n",
       "      <td>0.0</td>\n",
       "      <td>0.0</td>\n",
       "      <td>30.0</td>\n",
       "      <td>4.0</td>\n",
       "    </tr>\n",
       "  </tbody>\n",
       "</table>\n",
       "</div>"
      ],
      "text/plain": [
       "   General_Health  Checkup  Exercise  Diabetes  Arthritis  Sex  Age_Category  \\\n",
       "0             2.0      4.0       1.0       0.0        1.0  0.0          12.0   \n",
       "1             2.0      4.0       1.0       0.0        1.0  0.0          12.0   \n",
       "2             2.0      4.0       1.0       0.0        1.0  0.0          11.0   \n",
       "3             2.0      4.0       1.0       0.0        1.0  0.0          11.0   \n",
       "4             2.0      4.0       1.0       0.0        1.0  0.0          11.0   \n",
       "\n",
       "   Weight_(kg)  Smoking_History  Alcohol_Consumption  Fruit_Consumption  \\\n",
       "0        58.97              0.0                  0.0               30.0   \n",
       "1        58.97              1.0                  0.0               30.0   \n",
       "2        81.65              0.0                  0.0               30.0   \n",
       "3        81.65              0.0                  0.0               30.0   \n",
       "4        81.65              0.0                  0.0               30.0   \n",
       "\n",
       "   Green_Vegetables_Consumption  \n",
       "0                           8.0  \n",
       "1                           8.0  \n",
       "2                           4.0  \n",
       "3                           4.0  \n",
       "4                           4.0  "
      ]
     },
     "execution_count": 24,
     "metadata": {},
     "output_type": "execute_result"
    }
   ],
   "source": [
    "x_sm.head()"
   ]
  },
  {
   "cell_type": "markdown",
   "metadata": {},
   "source": [
    "# Train"
   ]
  },
  {
   "cell_type": "markdown",
   "metadata": {},
   "source": [
    "## PSO Xgboost"
   ]
  },
  {
   "cell_type": "code",
   "execution_count": 28,
   "metadata": {},
   "outputs": [],
   "source": [
    "def fitness_function(keys, position,data, cv_splits, SEED):\n",
    "    d = len(position) # number of dimensions aka number of parameters we are tuning\n",
    "    X, y = data\n",
    "    xgboost_param_by_position = dict(zip(keys, position))\n",
    "\n",
    "    cv_results = cross_validate(\n",
    "                    estimator=XGBClassifier(learning_rate = 0.1, random_state=SEED, **xgboost_param_by_position),\n",
    "                    cv=cv_splits,\n",
    "                    X=X,\n",
    "                    y=y,\n",
    "                    scoring=\"f1\"\n",
    "                )\n",
    "    mean_cv_score = cv_results['test_score'].mean()\n",
    "\n",
    "    return mean_cv_score"
   ]
  },
  {
   "cell_type": "code",
   "execution_count": null,
   "metadata": {},
   "outputs": [],
   "source": [
    "def pso_xgboost(data, fitness_function, cv_splits, SEED, bounds, swarm_size, max_iter, c1 = 2.0, c2 = 2.0, W = 0.5):    \n",
    "    # Separate train/test data\n",
    "    X_normalized_train, X_normalized_test, y_train, y_test = data\n",
    "    train_data = (X_normalized_train, y_train)\n",
    "\n",
    "    dimension = len(bounds) # number of dimensions aka number of parameters we are tuning\n",
    "    keys = list(bounds.keys())\n",
    "\n",
    "    rounding = []\n",
    "    for key in list(bounds.keys()): \n",
    "        if key == \"max_depth\" or key == \"n_estimators\": \n",
    "            rounding.append(1) \n",
    "        else: \n",
    "            rounding.append(0)\n",
    "    # print(rounding)\n",
    "    particle_position_vector = list([list([np.random.uniform(bounds[k][0], bounds[k][1]) for k in keys]) for _ in range(swarm_size)])\n",
    "    for i in range(swarm_size): \n",
    "        for j in range(len(bounds)): \n",
    "            if rounding[j]:\n",
    "                particle_position_vector[i][j] = int(particle_position_vector[i][j]) \n",
    "\n",
    "    pbest_position = particle_position_vector.copy()\n",
    "    pbest_fitness_value = list([float('-inf') for _ in range(swarm_size)])\n",
    "    gbest_fitness_value = float('-inf')\n",
    "    gbest_position = list([float(0) for d in range(dimension)])\n",
    "    velocity_vector = ([list([float(0) for d in range(dimension)]) for _ in range(swarm_size)])\n",
    "    # new_velocity = list([float(0) for d in range(dimension)])\n",
    "    # new_position = list([float(0) for d in range(dimension)])\n",
    "    \n",
    "\t# Store data for plotting later in a list\n",
    "    data_for_plotting = []\n",
    "    data_for_plotting.append((0, gbest_fitness_value))\n",
    "\n",
    "    for _ in range(max_iter):\n",
    "        for i in range(swarm_size):\n",
    "            fitness_cadidate = fitness_function(keys, particle_position_vector[i], train_data, cv_splits, SEED)\n",
    "            \n",
    "            if (pbest_fitness_value[i] < fitness_cadidate):\n",
    "                pbest_fitness_value[i] = fitness_cadidate\n",
    "                pbest_position[i] = particle_position_vector[i].copy()\n",
    "            if (gbest_fitness_value < fitness_cadidate):\n",
    "                gbest_fitness_value = fitness_cadidate\n",
    "                gbest_position = particle_position_vector[i].copy()\n",
    "                \n",
    "        data_for_plotting.append((_, gbest_fitness_value))\n",
    "        \n",
    "        for i in range(swarm_size):\n",
    "            for d in range(dimension):      \n",
    "\t\t\t\t# This is the random factor, do we want it to be the same for all dimensions or different? Modify if needed.                     \n",
    "                velocity_vector[i][d] = (W * velocity_vector[i][d]) + (c1 * np.random.random()) * (\n",
    "\t\t\t\t\t\tpbest_position[i][d] - particle_position_vector[i][d]) + (c2 * np.random.random()) * (\n",
    "\t\t\t\t\t\tgbest_position[d] - particle_position_vector[i][d])\n",
    "\t\t\t\t# update position directly                                \n",
    "                temp_pos =  velocity_vector[i][d] + particle_position_vector[i][d]\n",
    "                low, high = bounds[keys[d]]\n",
    "                if rounding[d]:\n",
    "                    temp_pos = int(round(temp_pos))\n",
    "                particle_position_vector[i][d] = max(low, min(high, temp_pos))\n",
    "\n",
    "    XGB = XGBClassifier(learning_rate = 0.1, eval_metric= 'error', **dict(zip(keys, gbest_position)))\n",
    "    XGB.fit(X_normalized_train, y_train)\n",
    "    y_test_predictions = XGB.predict(X_normalized_test)\n",
    "    accuracy_test = accuracy_score(y_test, y_test_predictions)\n",
    "    # store data for plotting in a csv file\n",
    "    with open('pso_data_f1.csv', 'w', newline='') as f:\n",
    "        writer = csv.writer(f)\n",
    "        writer.writerow(['Iteration', 'Fitness'])\n",
    "        for i, (iteration, fitness) in enumerate(data_for_plotting):\n",
    "            writer.writerow([iteration, fitness])\n",
    "    \n",
    "    return (gbest_position, gbest_fitness_value, accuracy_test)"
   ]
  },
  {
   "cell_type": "markdown",
   "metadata": {},
   "source": [
    "## Gridsearch: version 2: this is more optimal than ver1\n"
   ]
  },
  {
   "cell_type": "code",
   "execution_count": null,
   "metadata": {},
   "outputs": [],
   "source": [
    "def grid_search_nd_modified(data, bounds, max_iter, cv_split, SEED, feature_importance = False):\n",
    "    # Separate train/test data\n",
    "    X_normalized_train, X_normalized_test, y_train, y_test = data\n",
    "    train_data = X_normalized_train, y_train\n",
    "\n",
    "    # Dimension\n",
    "    dimension = len(bounds)\n",
    "\n",
    "    # Create key list\n",
    "    keys = []\n",
    "    for key in list(bounds.keys()): \n",
    "        keys.append(key)\n",
    "    \n",
    "    # Rounding for parameters that are only accept integer values\n",
    "    rounding = []\n",
    "    for key in list(bounds.keys()): \n",
    "        if key == \"max_depth\" or key == \"n_estimators\": \n",
    "            rounding.append(1) \n",
    "        else: \n",
    "            rounding.append(0)\n",
    "    \n",
    "    # Calculate number of points in each dimension\n",
    "    points_each_dim = int(exp(log(max_iter)/dimension))\n",
    "    points = [None] * dimension \n",
    "\n",
    "    # Calculate stepsize (not assuming stepsize_x = stepsize_y)\n",
    "    step_size = []\n",
    "    for d in range(dimension):\n",
    "        if not rounding[d]:\n",
    "            step_size.append(0)\n",
    "            # step_size.append((bounds[keys[d]][1] - bounds[keys[d]][0]) / (points_each_dim - 1))\n",
    "        if rounding[d]: \n",
    "            step_size.append(math.ceil((bounds[keys[d]][1] - bounds[keys[d]][0]) / (points_each_dim - 1)))\n",
    "\n",
    "    sorted_params = {}\n",
    "    for key in keys: \n",
    "        if rounding[keys.index(key)]:\n",
    "            sorted_params[key] = list(np.arange(bounds[key][0], bounds[key][1] + step_size[keys.index(key)], step_size[keys.index(key)]))\n",
    "            points[keys.index(key)] = len(sorted_params[key])\n",
    "    int_points = 1\n",
    "    for d in range(dimension):\n",
    "        if rounding[d]: \n",
    "            int_points = points[d] * int_points\n",
    "    remain_points = 0 \n",
    "    points_each_dim_left = 0\n",
    "    if sum(rounding) != dimension: \n",
    "        remain_points = max_iter / int_points\n",
    "        points_each_dim_left = int(exp(log(remain_points)/(dimension - sum(rounding))))\n",
    "    for d in range(dimension):\n",
    "        if not rounding[d]: \n",
    "            points[d] = points_each_dim_left\n",
    "            sorted_params[keys[d]] = list(np.linspace(start=bounds[keys[d]][0], stop=bounds[keys[d]][1], num=points[d])) \n",
    "    # print('sorted params')\n",
    "    # print(sorted_params)\n",
    "    XGB = XGBClassifier(learning_rate = 0.1, eval_metric= 'error', random_state=SEED)     #learning_rate = 0.01\n",
    "    grid = GridSearchCV(estimator=XGB, param_grid=sorted_params, scoring='f1', cv=cv_split, verbose=1 )\n",
    "    grid.fit(X_normalized_train, y_train)\n",
    "    best_param = grid.best_params_\n",
    "    best_score = grid.best_score_\n",
    "\n",
    "    y_test_predictions = grid.predict(X_normalized_test)\n",
    "    f1_test = f1_score(y_test, y_test_predictions)\n",
    "    \n",
    "    if feature_importance:\n",
    "        best_xgb = grid.best_estimator_\n",
    "        booster = best_xgb.get_booster()\n",
    "        importances = booster.get_score(importance_type='gain')\n",
    "        sorted_importances = sorted(importances.items(), key=lambda x: x[1], reverse=True)\n",
    "        return best_param, best_score, f1_test, sorted_importances\n",
    "\n",
    "    return best_param, best_score, f1_test"
   ]
  },
  {
   "cell_type": "markdown",
   "metadata": {},
   "source": [
    "# Seed Cross-validation: PSO and GridSearch"
   ]
  },
  {
   "cell_type": "markdown",
   "metadata": {},
   "source": [
    "### Run"
   ]
  },
  {
   "cell_type": "code",
   "execution_count": 158,
   "metadata": {},
   "outputs": [
    {
     "name": "stdout",
     "output_type": "stream",
     "text": [
      "cv_splits\n",
      "[(array([    2,     3,     4, ..., 22113, 22114, 22115], shape=(16587,)), array([    0,     1,     5, ..., 22104, 22105, 22111], shape=(5529,))), (array([    0,     1,     3, ..., 22112, 22113, 22115], shape=(16587,)), array([    2,    15,    19, ..., 22099, 22108, 22114], shape=(5529,))), (array([    0,     1,     2, ..., 22112, 22113, 22114], shape=(16587,)), array([    4,     6,     9, ..., 22109, 22110, 22115], shape=(5529,))), (array([    0,     1,     2, ..., 22111, 22114, 22115], shape=(16587,)), array([    3,     7,     8, ..., 22107, 22112, 22113], shape=(5529,))), (array([    0,     1,     2, ..., 22110, 22111, 22113], shape=(16587,)), array([    3,     9,    16, ..., 22112, 22114, 22115], shape=(5529,))), (array([    0,     1,     3, ..., 22112, 22114, 22115], shape=(16587,)), array([    2,     4,     5, ..., 22103, 22110, 22113], shape=(5529,))), (array([    0,     1,     2, ..., 22113, 22114, 22115], shape=(16587,)), array([    7,     8,    11, ..., 22101, 22102, 22106], shape=(5529,))), (array([    2,     3,     4, ..., 22113, 22114, 22115], shape=(16587,)), array([    0,     1,     6, ..., 22108, 22109, 22111], shape=(5529,))), (array([    0,     1,     3, ..., 22112, 22113, 22115], shape=(16587,)), array([    2,     7,    12, ..., 22101, 22108, 22114], shape=(5529,))), (array([    1,     2,     4, ..., 22113, 22114, 22115], shape=(16587,)), array([    0,     3,     6, ..., 22085, 22090, 22092], shape=(5529,))), (array([    0,     2,     3, ..., 22109, 22110, 22114], shape=(16587,)), array([    1,    11,    16, ..., 22112, 22113, 22115], shape=(5529,))), (array([    0,     1,     2, ..., 22113, 22114, 22115], shape=(16587,)), array([    4,     5,    10, ..., 22106, 22109, 22110], shape=(5529,))), (array([    1,     4,     8, ..., 22110, 22111, 22113], shape=(16587,)), array([    0,     2,     3, ..., 22112, 22114, 22115], shape=(5529,))), (array([    0,     1,     2, ..., 22112, 22114, 22115], shape=(16587,)), array([    4,    18,    19, ..., 22107, 22111, 22113], shape=(5529,))), (array([    0,     1,     2, ..., 22113, 22114, 22115], shape=(16587,)), array([    8,    10,    11, ..., 22108, 22109, 22110], shape=(5529,))), (array([    0,     2,     3, ..., 22113, 22114, 22115], shape=(16587,)), array([    1,    16,    22, ..., 22090, 22097, 22098], shape=(5529,)))]\n",
      "[(array([    2,     3,     4, ..., 22113, 22114, 22115], shape=(14744,)), array([    0,     1,     5, ..., 22105, 22108, 22111], shape=(7372,))), (array([    0,     1,     3, ..., 22111, 22112, 22113], shape=(14744,)), array([    2,     6,    10, ..., 22109, 22114, 22115], shape=(7372,))), (array([    0,     1,     2, ..., 22111, 22114, 22115], shape=(14744,)), array([    3,     4,     7, ..., 22110, 22112, 22113], shape=(7372,)))]\n"
     ]
    }
   ],
   "source": [
    "import numpy as np\n",
    "from sklearn.model_selection import StratifiedKFold, RepeatedStratifiedKFold\n",
    "\n",
    "# Set global seeds for reproducibility\n",
    "SEED = 415\n",
    "\n",
    "# Split train/test with a random state\n",
    "X_train, X_test, y_train, y_test = train_test_split(x_sm, y_sm, random_state=SEED, train_size=0.8)\n",
    "\n",
    "## Normalized Data\n",
    "# Initialize and use StandardScaler to normalize the data\n",
    "scaler = StandardScaler()\n",
    "X_normalized_train = scaler.fit_transform(X_train)     # Fit and transform thr training data\n",
    "X_normalized_test = scaler.transform(X_test)           # Only transform the test data.\n",
    "\n",
    "# Generate CV splits once (to reuse the same splits for both methods)\n",
    "cv = StratifiedKFold(n_splits=3, shuffle=True, random_state=SEED)\n",
    "# Instead of StratifiedKFold(n_splits=3, ...)\n",
    "# Use, for example, 3 splits repeated 3 times:\n",
    "cv_repeated = RepeatedStratifiedKFold(n_splits=4, n_repeats=4, random_state=SEED)\n",
    "\n",
    "cv_splits = list(cv.split(X_normalized_train, y_train))  # X, y are your data and labels\n",
    "cv_repeated_splits = list(cv_repeated.split(X_normalized_train, y_train))  # X, y are your data and labels\n",
    "print(\"cv_splits\")\n",
    "print(cv_repeated_splits)\n",
    "print(cv_splits)\n",
    "\n",
    "# Define the params \n",
    "data = (X_normalized_train, X_normalized_test, y_train, y_test)"
   ]
  },
  {
   "cell_type": "markdown",
   "metadata": {},
   "source": [
    "#### Repeated"
   ]
  },
  {
   "cell_type": "code",
   "execution_count": 159,
   "metadata": {},
   "outputs": [],
   "source": [
    "test_bounds = {\n",
    "        # 'min_child_weight': (0,10),\n",
    "        'gamma': (1,5),\n",
    "        # 'n_estimators': (0,1000),\n",
    "        'max_depth': (5,8),\n",
    "        'reg_lambda': (5,10),\n",
    "        # 'learning_rate': (1e-2,1)\n",
    "        # 'subsample': (1e-4, 1),\n",
    "        'colsample_bytree': (1e-2, 1),\n",
    "}\n",
    "\n",
    "# PSO\n",
    "swarm_size = 16\n",
    "max_iter = 16"
   ]
  },
  {
   "cell_type": "code",
   "execution_count": 163,
   "metadata": {},
   "outputs": [
    {
     "name": "stdout",
     "output_type": "stream",
     "text": [
      "PSO\n",
      "[1.007207725825221, 8, 5.2065927328704324, 0.45954880941042436] 0.7925583136824879 0.8122965641952984\n"
     ]
    }
   ],
   "source": [
    "param_pso, train_best_pso, test_best_pso = pso_xgboost(\n",
    "    data, \n",
    "    fitness_function, \n",
    "    cv_repeated_splits, \n",
    "    SEED, \n",
    "    test_bounds, \n",
    "    swarm_size, \n",
    "    max_iter)\n",
    "print(\"PSO\")\n",
    "print(param_pso, train_best_pso, test_best_pso)"
   ]
  },
  {
   "cell_type": "code",
   "execution_count": 164,
   "metadata": {},
   "outputs": [
    {
     "data": {
      "image/png": "[encoded data removed]",
      "text/plain": [
       "<Figure size 1000x600 with 1 Axes>"
      ]
     },
     "metadata": {},
     "output_type": "display_data"
    }
   ],
   "source": [
    "# plot pso data\n",
    "pso_data = pd.read_csv('pso_data_f1.csv')\n",
    "plt.figure(figsize=(10, 6))\n",
    "plt.plot(pso_data['Iteration'], pso_data['Fitness'])\n",
    "plt.title('PSO Fitness (F1) Over Iterations')\n",
    "plt.xlabel('Iteration')\n",
    "plt.ylabel('Fitness')\n",
    "plt.show()"
   ]
  },
  {
   "cell_type": "code",
   "execution_count": 115,
   "metadata": {},
   "outputs": [
    {
     "name": "stdout",
     "output_type": "stream",
     "text": [
      "Fitting 16 folds for each of 256 candidates, totalling 4096 fits\n",
      "Grid Search\n",
      "{'colsample_bytree': np.float64(0.34), 'gamma': np.float64(1.0), 'max_depth': np.int64(8), 'reg_lambda': np.float64(8.333333333333334)} 0.7934755907499474 0.8060270837306885\n"
     ]
    }
   ],
   "source": [
    "# Grid Search \n",
    "param_grid, train_best_grid, test_best_grid = grid_search_nd_modified(\n",
    "    data, \n",
    "    test_bounds, \n",
    "    swarm_size*max_iter, \n",
    "    cv_repeated_splits, \n",
    "    SEED)\n",
    "print(\"Grid Search\")\n",
    "print(param_grid, train_best_grid, test_best_grid)"
   ]
  },
  {
   "cell_type": "markdown",
   "metadata": {},
   "source": [
    "#### Non-repeated"
   ]
  },
  {
   "cell_type": "code",
   "execution_count": 35,
   "metadata": {},
   "outputs": [],
   "source": [
    "test_bounds = {\n",
    "        # 'min_child_weight': (0,10),\n",
    "        'gamma': (0,5),\n",
    "        # 'n_estimators': (0,1000),\n",
    "        'max_depth': (3,9),\n",
    "        'reg_lambda': (5,10),\n",
    "        # 'learning_rate': (1e-2,1)\n",
    "        # 'subsample': (1e-4, 1),\n",
    "        #'colsample_bytree': (1e-4, 1),\n",
    "    }\n",
    "\n",
    "# PSO\n",
    "swarm_size = 16\n",
    "max_iter = 9"
   ]
  },
  {
   "cell_type": "code",
   "execution_count": 36,
   "metadata": {},
   "outputs": [
    {
     "name": "stdout",
     "output_type": "stream",
     "text": [
      "PSO\n",
      "[0.8641368779597451, 7, 8.537977197649619] 0.7913902844137276 0.7980088071989279\n"
     ]
    }
   ],
   "source": [
    "param_pso, train_best_pso, test_best_pso = pso_xgboost(\n",
    "    data, \n",
    "    fitness_function, \n",
    "    cv_splits, \n",
    "    SEED, \n",
    "    test_bounds, \n",
    "    swarm_size, \n",
    "    max_iter)\n",
    "print(\"PSO\")\n",
    "print(param_pso, train_best_pso, test_best_pso)"
   ]
  },
  {
   "cell_type": "code",
   "execution_count": 37,
   "metadata": {},
   "outputs": [
    {
     "name": "stdout",
     "output_type": "stream",
     "text": [
      "Fitting 3 folds for each of 144 candidates, totalling 432 fits\n",
      "Grid Search\n",
      "{'gamma': np.float64(1.0), 'max_depth': np.int64(7), 'reg_lambda': np.float64(5.0)} 0.7918047386994317 0.7990026850786345\n"
     ]
    }
   ],
   "source": [
    "# Grid Search \n",
    "param_grid, train_best_grid, test_best_grid = grid_search_nd_modified(\n",
    "    data, \n",
    "    test_bounds, \n",
    "    swarm_size*max_iter, \n",
    "    cv_splits, \n",
    "    SEED)\n",
    "print(\"Grid Search\")\n",
    "print(param_grid, train_best_grid, test_best_grid)"
   ]
  },
  {
   "cell_type": "markdown",
   "metadata": {},
   "source": [
    "### Feature Selection"
   ]
  },
  {
   "cell_type": "code",
   "execution_count": null,
   "metadata": {},
   "outputs": [],
   "source": [
    "# Grid Search \n",
    "feature_importance = True\n",
    "param_grid, train_best_grid, test_best_grid, sorted_importances = grid_search_nd_modified(data, test_bounds, swarm_size*max_iter, cv_splits, SEED, feature_importance)\n",
    "\n",
    "print(\"Grid Search Results:\")\n",
    "print(param_grid, train_best_grid, test_best_grid)"
   ]
  },
  {
   "cell_type": "code",
   "execution_count": null,
   "metadata": {},
   "outputs": [],
   "source": [
    "feature_names = X.columns\n",
    "mapped_importances = {feature_names[int(f[1:])]: imp for [f, imp] in sorted_importances}\n",
    "for key, value in mapped_importances.items():\n",
    "\tprint(f\"Feature: {key}, Importance (Gain): {value}\")"
   ]
  },
  {
   "cell_type": "code",
   "execution_count": null,
   "metadata": {},
   "outputs": [],
   "source": [
    "list(mapped_importances.keys())[0:11]"
   ]
  },
  {
   "cell_type": "code",
   "execution_count": null,
   "metadata": {},
   "outputs": [],
   "source": [
    "X_feature_select = X[X.columns.intersection(list(mapped_importances.keys())[0:11])]\n",
    "X_feature_select.head()"
   ]
  },
  {
   "cell_type": "code",
   "execution_count": null,
   "metadata": {},
   "outputs": [],
   "source": [
    "X_feature_select "
   ]
  },
  {
   "cell_type": "code",
   "execution_count": null,
   "metadata": {},
   "outputs": [],
   "source": [
    "# Set global seeds for reproducibility\n",
    "SEED = 40\n",
    "\n",
    "# Split train/test with a random state\n",
    "X_train, X_test, y_train, y_test = train_test_split(X_feature_select, y, random_state=SEED, train_size=0.8)\n",
    "\n",
    "## Normalized Data\n",
    "# Initialize and use StandardScaler to normalize the data\n",
    "scaler = StandardScaler()\n",
    "X_feature_select_partial_normalized_train = scaler.fit_transform(X_train[['BMI', 'Age']])     # Fit and transform the training data\n",
    "X_feature_select_partial_normalized_test = scaler.transform(X_test[['BMI', 'Age']])           # Only transform the test data.\n",
    "\n",
    "X_feature_select_normalized_train = X_train.copy()\n",
    "X_feature_select_normalized_train[['BMI', 'Age']] = X_feature_select_partial_normalized_train      \n",
    "X_feature_select_normalized_test = X_test.copy()\n",
    "X_feature_select_normalized_test[['BMI', 'Age']] = X_feature_select_partial_normalized_test  \n",
    "\n",
    "# Generate CV splits once (to reuse the same splits for both methods)\n",
    "cv = StratifiedKFold(n_splits=3, shuffle=True, random_state=SEED)\n",
    "cv_splits_feature_select = list(cv.split(X_feature_select_normalized_train, y_train))  # X, y are your data and labels\n",
    "print(\"cv_splits\")\n",
    "print(cv_splits_feature_select)\n",
    "\n",
    "# Define the params \n",
    "data_feature_select = (X_feature_select_normalized_train, X_feature_select_normalized_test, y_train, y_test)\n",
    "test_bounds = {\n",
    "        # 'min_child_weight': (0,10),\n",
    "        'gamma': (0,5),\n",
    "        'n_estimators': (0,500),\n",
    "        'max_depth': (3,12),\n",
    "        'lambda': (0,10),\n",
    "        # 'learning_rate': (1e-2,1)\n",
    "        # 'subsample': (1e-4, 1),\n",
    "        # 'colsample_bytree': (1e-4, 1),\n",
    "    }\n",
    "\n",
    "# PSO\n",
    "swarm_size = 9\n",
    "max_iter = 16"
   ]
  },
  {
   "cell_type": "code",
   "execution_count": null,
   "metadata": {},
   "outputs": [],
   "source": [
    "# Grid Search \n",
    "param_grid_fs, train_best_grid_fs, test_best_grid_fs = grid_search_nd_modified(data_feature_select, test_bounds, swarm_size*max_iter, cv_splits, SEED)\n",
    "print(\"Grid Search\")\n",
    "print(param_grid_fs, train_best_grid_fs, test_best_grid_fs)"
   ]
  },
  {
   "cell_type": "code",
   "execution_count": null,
   "metadata": {},
   "outputs": [],
   "source": [
    "from sklearn.model_selection import learning_curve\n",
    "\n",
    "# Generate learning curves\n",
    "train_sizes, train_scores, test_scores = learning_curve(XGBClassifier(learning_rate=0.1,  **param_grid_fs), X_feature_select_normalized_train, y_train, cv=cv_splits_feature_select, scoring='f1')\n",
    "\n",
    "# Calculate mean and standard deviation for training and test scores\n",
    "train_scores_mean = np.mean(train_scores, axis=1)\n",
    "train_scores_std = np.std(train_scores, axis=1)\n",
    "test_scores_mean = np.mean(test_scores, axis=1)\n",
    "test_scores_std = np.std(test_scores, axis=1)\n",
    "\n",
    "# Plot learning curves\n",
    "plt.figure()\n",
    "plt.title(\"Learning Curves (XGBoost)\")\n",
    "plt.xlabel(\"Training examples\")\n",
    "plt.ylabel(\"Score\")\n",
    "plt.grid()\n",
    "\n",
    "plt.fill_between(train_sizes, train_scores_mean - train_scores_std,\n",
    "\t\t\t\t train_scores_mean + train_scores_std, alpha=0.1, color=\"r\")\n",
    "plt.fill_between(train_sizes, test_scores_mean - test_scores_std,\n",
    "\t\t\t\t test_scores_mean + test_scores_std, alpha=0.1, color=\"g\")\n",
    "plt.plot(train_sizes, train_scores_mean, 'o-', color=\"r\", label=\"Training score\")\n",
    "plt.plot(train_sizes, test_scores_mean, 'o-', color=\"g\", label=\"Cross-validation score\")\n",
    "\n",
    "plt.legend(loc=\"best\")\n",
    "plt.show()\n",
    "\n",
    "# Interpretation\n",
    "print(\"Training scores mean:\", train_scores_mean)\n",
    "print(\"Cross-validation scores mean:\", test_scores_mean)\n",
    "\n",
    "if train_scores_mean[-1] < 0.8 and test_scores_mean[-1] < 0.8:\n",
    "\tprint(\"The model is underfitting (high bias).\")\n",
    "elif train_scores_mean[-1] > 0.9 and test_scores_mean[-1] < 0.8:\n",
    "\tprint(\"The model is overfitting (high variance).\")\n",
    "else:\n",
    "\tprint(\"The model has a good fit.\")"
   ]
  },
  {
   "cell_type": "markdown",
   "metadata": {},
   "source": [
    "# Default"
   ]
  },
  {
   "cell_type": "code",
   "execution_count": 38,
   "metadata": {},
   "outputs": [
    {
     "data": {
      "text/html": [
       "<style>#sk-container-id-1 {\n",
       "  /* Definition of color scheme common for light and dark mode */\n",
       "  --sklearn-color-text: #000;\n",
       "  --sklearn-color-text-muted: #666;\n",
       "  --sklearn-color-line: gray;\n",
       "  /* Definition of color scheme for unfitted estimators */\n",
       "  --sklearn-color-unfitted-level-0: #fff5e6;\n",
       "  --sklearn-color-unfitted-level-1: #f6e4d2;\n",
       "  --sklearn-color-unfitted-level-2: #ffe0b3;\n",
       "  --sklearn-color-unfitted-level-3: chocolate;\n",
       "  /* Definition of color scheme for fitted estimators */\n",
       "  --sklearn-color-fitted-level-0: #f0f8ff;\n",
       "  --sklearn-color-fitted-level-1: #d4ebff;\n",
       "  --sklearn-color-fitted-level-2: #b3dbfd;\n",
       "  --sklearn-color-fitted-level-3: cornflowerblue;\n",
       "\n",
       "  /* Specific color for light theme */\n",
       "  --sklearn-color-text-on-default-background: var(--sg-text-color, var(--theme-code-foreground, var(--jp-content-font-color1, black)));\n",
       "  --sklearn-color-background: var(--sg-background-color, var(--theme-background, var(--jp-layout-color0, white)));\n",
       "  --sklearn-color-border-box: var(--sg-text-color, var(--theme-code-foreground, var(--jp-content-font-color1, black)));\n",
       "  --sklearn-color-icon: #696969;\n",
       "\n",
       "  @media (prefers-color-scheme: dark) {\n",
       "    /* Redefinition of color scheme for dark theme */\n",
       "    --sklearn-color-text-on-default-background: var(--sg-text-color, var(--theme-code-foreground, var(--jp-content-font-color1, white)));\n",
       "    --sklearn-color-background: var(--sg-background-color, var(--theme-background, var(--jp-layout-color0, #111)));\n",
       "    --sklearn-color-border-box: var(--sg-text-color, var(--theme-code-foreground, var(--jp-content-font-color1, white)));\n",
       "    --sklearn-color-icon: #878787;\n",
       "  }\n",
       "}\n",
       "\n",
       "#sk-container-id-1 {\n",
       "  color: var(--sklearn-color-text);\n",
       "}\n",
       "\n",
       "#sk-container-id-1 pre {\n",
       "  padding: 0;\n",
       "}\n",
       "\n",
       "#sk-container-id-1 input.sk-hidden--visually {\n",
       "  border: 0;\n",
       "  clip: rect(1px 1px 1px 1px);\n",
       "  clip: rect(1px, 1px, 1px, 1px);\n",
       "  height: 1px;\n",
       "  margin: -1px;\n",
       "  overflow: hidden;\n",
       "  padding: 0;\n",
       "  position: absolute;\n",
       "  width: 1px;\n",
       "}\n",
       "\n",
       "#sk-container-id-1 div.sk-dashed-wrapped {\n",
       "  border: 1px dashed var(--sklearn-color-line);\n",
       "  margin: 0 0.4em 0.5em 0.4em;\n",
       "  box-sizing: border-box;\n",
       "  padding-bottom: 0.4em;\n",
       "  background-color: var(--sklearn-color-background);\n",
       "}\n",
       "\n",
       "#sk-container-id-1 div.sk-container {\n",
       "  /* jupyter's `normalize.less` sets `[hidden] { display: none; }`\n",
       "     but bootstrap.min.css set `[hidden] { display: none !important; }`\n",
       "     so we also need the `!important` here to be able to override the\n",
       "     default hidden behavior on the sphinx rendered scikit-learn.org.\n",
       "     See: https://github.com/scikit-learn/scikit-learn/issues/21755 */\n",
       "  display: inline-block !important;\n",
       "  position: relative;\n",
       "}\n",
       "\n",
       "#sk-container-id-1 div.sk-text-repr-fallback {\n",
       "  display: none;\n",
       "}\n",
       "\n",
       "div.sk-parallel-item,\n",
       "div.sk-serial,\n",
       "div.sk-item {\n",
       "  /* draw centered vertical line to link estimators */\n",
       "  background-image: linear-gradient(var(--sklearn-color-text-on-default-background), var(--sklearn-color-text-on-default-background));\n",
       "  background-size: 2px 100%;\n",
       "  background-repeat: no-repeat;\n",
       "  background-position: center center;\n",
       "}\n",
       "\n",
       "/* Parallel-specific style estimator block */\n",
       "\n",
       "#sk-container-id-1 div.sk-parallel-item::after {\n",
       "  content: \"\";\n",
       "  width: 100%;\n",
       "  border-bottom: 2px solid var(--sklearn-color-text-on-default-background);\n",
       "  flex-grow: 1;\n",
       "}\n",
       "\n",
       "#sk-container-id-1 div.sk-parallel {\n",
       "  display: flex;\n",
       "  align-items: stretch;\n",
       "  justify-content: center;\n",
       "  background-color: var(--sklearn-color-background);\n",
       "  position: relative;\n",
       "}\n",
       "\n",
       "#sk-container-id-1 div.sk-parallel-item {\n",
       "  display: flex;\n",
       "  flex-direction: column;\n",
       "}\n",
       "\n",
       "#sk-container-id-1 div.sk-parallel-item:first-child::after {\n",
       "  align-self: flex-end;\n",
       "  width: 50%;\n",
       "}\n",
       "\n",
       "#sk-container-id-1 div.sk-parallel-item:last-child::after {\n",
       "  align-self: flex-start;\n",
       "  width: 50%;\n",
       "}\n",
       "\n",
       "#sk-container-id-1 div.sk-parallel-item:only-child::after {\n",
       "  width: 0;\n",
       "}\n",
       "\n",
       "/* Serial-specific style estimator block */\n",
       "\n",
       "#sk-container-id-1 div.sk-serial {\n",
       "  display: flex;\n",
       "  flex-direction: column;\n",
       "  align-items: center;\n",
       "  background-color: var(--sklearn-color-background);\n",
       "  padding-right: 1em;\n",
       "  padding-left: 1em;\n",
       "}\n",
       "\n",
       "\n",
       "/* Toggleable style: style used for estimator/Pipeline/ColumnTransformer box that is\n",
       "clickable and can be expanded/collapsed.\n",
       "- Pipeline and ColumnTransformer use this feature and define the default style\n",
       "- Estimators will overwrite some part of the style using the `sk-estimator` class\n",
       "*/\n",
       "\n",
       "/* Pipeline and ColumnTransformer style (default) */\n",
       "\n",
       "#sk-container-id-1 div.sk-toggleable {\n",
       "  /* Default theme specific background. It is overwritten whether we have a\n",
       "  specific estimator or a Pipeline/ColumnTransformer */\n",
       "  background-color: var(--sklearn-color-background);\n",
       "}\n",
       "\n",
       "/* Toggleable label */\n",
       "#sk-container-id-1 label.sk-toggleable__label {\n",
       "  cursor: pointer;\n",
       "  display: flex;\n",
       "  width: 100%;\n",
       "  margin-bottom: 0;\n",
       "  padding: 0.5em;\n",
       "  box-sizing: border-box;\n",
       "  text-align: center;\n",
       "  align-items: start;\n",
       "  justify-content: space-between;\n",
       "  gap: 0.5em;\n",
       "}\n",
       "\n",
       "#sk-container-id-1 label.sk-toggleable__label .caption {\n",
       "  font-size: 0.6rem;\n",
       "  font-weight: lighter;\n",
       "  color: var(--sklearn-color-text-muted);\n",
       "}\n",
       "\n",
       "#sk-container-id-1 label.sk-toggleable__label-arrow:before {\n",
       "  /* Arrow on the left of the label */\n",
       "  content: \"▸\";\n",
       "  float: left;\n",
       "  margin-right: 0.25em;\n",
       "  color: var(--sklearn-color-icon);\n",
       "}\n",
       "\n",
       "#sk-container-id-1 label.sk-toggleable__label-arrow:hover:before {\n",
       "  color: var(--sklearn-color-text);\n",
       "}\n",
       "\n",
       "/* Toggleable content - dropdown */\n",
       "\n",
       "#sk-container-id-1 div.sk-toggleable__content {\n",
       "  max-height: 0;\n",
       "  max-width: 0;\n",
       "  overflow: hidden;\n",
       "  text-align: left;\n",
       "  /* unfitted */\n",
       "  background-color: var(--sklearn-color-unfitted-level-0);\n",
       "}\n",
       "\n",
       "#sk-container-id-1 div.sk-toggleable__content.fitted {\n",
       "  /* fitted */\n",
       "  background-color: var(--sklearn-color-fitted-level-0);\n",
       "}\n",
       "\n",
       "#sk-container-id-1 div.sk-toggleable__content pre {\n",
       "  margin: 0.2em;\n",
       "  border-radius: 0.25em;\n",
       "  color: var(--sklearn-color-text);\n",
       "  /* unfitted */\n",
       "  background-color: var(--sklearn-color-unfitted-level-0);\n",
       "}\n",
       "\n",
       "#sk-container-id-1 div.sk-toggleable__content.fitted pre {\n",
       "  /* unfitted */\n",
       "  background-color: var(--sklearn-color-fitted-level-0);\n",
       "}\n",
       "\n",
       "#sk-container-id-1 input.sk-toggleable__control:checked~div.sk-toggleable__content {\n",
       "  /* Expand drop-down */\n",
       "  max-height: 200px;\n",
       "  max-width: 100%;\n",
       "  overflow: auto;\n",
       "}\n",
       "\n",
       "#sk-container-id-1 input.sk-toggleable__control:checked~label.sk-toggleable__label-arrow:before {\n",
       "  content: \"▾\";\n",
       "}\n",
       "\n",
       "/* Pipeline/ColumnTransformer-specific style */\n",
       "\n",
       "#sk-container-id-1 div.sk-label input.sk-toggleable__control:checked~label.sk-toggleable__label {\n",
       "  color: var(--sklearn-color-text);\n",
       "  background-color: var(--sklearn-color-unfitted-level-2);\n",
       "}\n",
       "\n",
       "#sk-container-id-1 div.sk-label.fitted input.sk-toggleable__control:checked~label.sk-toggleable__label {\n",
       "  background-color: var(--sklearn-color-fitted-level-2);\n",
       "}\n",
       "\n",
       "/* Estimator-specific style */\n",
       "\n",
       "/* Colorize estimator box */\n",
       "#sk-container-id-1 div.sk-estimator input.sk-toggleable__control:checked~label.sk-toggleable__label {\n",
       "  /* unfitted */\n",
       "  background-color: var(--sklearn-color-unfitted-level-2);\n",
       "}\n",
       "\n",
       "#sk-container-id-1 div.sk-estimator.fitted input.sk-toggleable__control:checked~label.sk-toggleable__label {\n",
       "  /* fitted */\n",
       "  background-color: var(--sklearn-color-fitted-level-2);\n",
       "}\n",
       "\n",
       "#sk-container-id-1 div.sk-label label.sk-toggleable__label,\n",
       "#sk-container-id-1 div.sk-label label {\n",
       "  /* The background is the default theme color */\n",
       "  color: var(--sklearn-color-text-on-default-background);\n",
       "}\n",
       "\n",
       "/* On hover, darken the color of the background */\n",
       "#sk-container-id-1 div.sk-label:hover label.sk-toggleable__label {\n",
       "  color: var(--sklearn-color-text);\n",
       "  background-color: var(--sklearn-color-unfitted-level-2);\n",
       "}\n",
       "\n",
       "/* Label box, darken color on hover, fitted */\n",
       "#sk-container-id-1 div.sk-label.fitted:hover label.sk-toggleable__label.fitted {\n",
       "  color: var(--sklearn-color-text);\n",
       "  background-color: var(--sklearn-color-fitted-level-2);\n",
       "}\n",
       "\n",
       "/* Estimator label */\n",
       "\n",
       "#sk-container-id-1 div.sk-label label {\n",
       "  font-family: monospace;\n",
       "  font-weight: bold;\n",
       "  display: inline-block;\n",
       "  line-height: 1.2em;\n",
       "}\n",
       "\n",
       "#sk-container-id-1 div.sk-label-container {\n",
       "  text-align: center;\n",
       "}\n",
       "\n",
       "/* Estimator-specific */\n",
       "#sk-container-id-1 div.sk-estimator {\n",
       "  font-family: monospace;\n",
       "  border: 1px dotted var(--sklearn-color-border-box);\n",
       "  border-radius: 0.25em;\n",
       "  box-sizing: border-box;\n",
       "  margin-bottom: 0.5em;\n",
       "  /* unfitted */\n",
       "  background-color: var(--sklearn-color-unfitted-level-0);\n",
       "}\n",
       "\n",
       "#sk-container-id-1 div.sk-estimator.fitted {\n",
       "  /* fitted */\n",
       "  background-color: var(--sklearn-color-fitted-level-0);\n",
       "}\n",
       "\n",
       "/* on hover */\n",
       "#sk-container-id-1 div.sk-estimator:hover {\n",
       "  /* unfitted */\n",
       "  background-color: var(--sklearn-color-unfitted-level-2);\n",
       "}\n",
       "\n",
       "#sk-container-id-1 div.sk-estimator.fitted:hover {\n",
       "  /* fitted */\n",
       "  background-color: var(--sklearn-color-fitted-level-2);\n",
       "}\n",
       "\n",
       "/* Specification for estimator info (e.g. \"i\" and \"?\") */\n",
       "\n",
       "/* Common style for \"i\" and \"?\" */\n",
       "\n",
       ".sk-estimator-doc-link,\n",
       "a:link.sk-estimator-doc-link,\n",
       "a:visited.sk-estimator-doc-link {\n",
       "  float: right;\n",
       "  font-size: smaller;\n",
       "  line-height: 1em;\n",
       "  font-family: monospace;\n",
       "  background-color: var(--sklearn-color-background);\n",
       "  border-radius: 1em;\n",
       "  height: 1em;\n",
       "  width: 1em;\n",
       "  text-decoration: none !important;\n",
       "  margin-left: 0.5em;\n",
       "  text-align: center;\n",
       "  /* unfitted */\n",
       "  border: var(--sklearn-color-unfitted-level-1) 1pt solid;\n",
       "  color: var(--sklearn-color-unfitted-level-1);\n",
       "}\n",
       "\n",
       ".sk-estimator-doc-link.fitted,\n",
       "a:link.sk-estimator-doc-link.fitted,\n",
       "a:visited.sk-estimator-doc-link.fitted {\n",
       "  /* fitted */\n",
       "  border: var(--sklearn-color-fitted-level-1) 1pt solid;\n",
       "  color: var(--sklearn-color-fitted-level-1);\n",
       "}\n",
       "\n",
       "/* On hover */\n",
       "div.sk-estimator:hover .sk-estimator-doc-link:hover,\n",
       ".sk-estimator-doc-link:hover,\n",
       "div.sk-label-container:hover .sk-estimator-doc-link:hover,\n",
       ".sk-estimator-doc-link:hover {\n",
       "  /* unfitted */\n",
       "  background-color: var(--sklearn-color-unfitted-level-3);\n",
       "  color: var(--sklearn-color-background);\n",
       "  text-decoration: none;\n",
       "}\n",
       "\n",
       "div.sk-estimator.fitted:hover .sk-estimator-doc-link.fitted:hover,\n",
       ".sk-estimator-doc-link.fitted:hover,\n",
       "div.sk-label-container:hover .sk-estimator-doc-link.fitted:hover,\n",
       ".sk-estimator-doc-link.fitted:hover {\n",
       "  /* fitted */\n",
       "  background-color: var(--sklearn-color-fitted-level-3);\n",
       "  color: var(--sklearn-color-background);\n",
       "  text-decoration: none;\n",
       "}\n",
       "\n",
       "/* Span, style for the box shown on hovering the info icon */\n",
       ".sk-estimator-doc-link span {\n",
       "  display: none;\n",
       "  z-index: 9999;\n",
       "  position: relative;\n",
       "  font-weight: normal;\n",
       "  right: .2ex;\n",
       "  padding: .5ex;\n",
       "  margin: .5ex;\n",
       "  width: min-content;\n",
       "  min-width: 20ex;\n",
       "  max-width: 50ex;\n",
       "  color: var(--sklearn-color-text);\n",
       "  box-shadow: 2pt 2pt 4pt #999;\n",
       "  /* unfitted */\n",
       "  background: var(--sklearn-color-unfitted-level-0);\n",
       "  border: .5pt solid var(--sklearn-color-unfitted-level-3);\n",
       "}\n",
       "\n",
       ".sk-estimator-doc-link.fitted span {\n",
       "  /* fitted */\n",
       "  background: var(--sklearn-color-fitted-level-0);\n",
       "  border: var(--sklearn-color-fitted-level-3);\n",
       "}\n",
       "\n",
       ".sk-estimator-doc-link:hover span {\n",
       "  display: block;\n",
       "}\n",
       "\n",
       "/* \"?\"-specific style due to the `<a>` HTML tag */\n",
       "\n",
       "#sk-container-id-1 a.estimator_doc_link {\n",
       "  float: right;\n",
       "  font-size: 1rem;\n",
       "  line-height: 1em;\n",
       "  font-family: monospace;\n",
       "  background-color: var(--sklearn-color-background);\n",
       "  border-radius: 1rem;\n",
       "  height: 1rem;\n",
       "  width: 1rem;\n",
       "  text-decoration: none;\n",
       "  /* unfitted */\n",
       "  color: var(--sklearn-color-unfitted-level-1);\n",
       "  border: var(--sklearn-color-unfitted-level-1) 1pt solid;\n",
       "}\n",
       "\n",
       "#sk-container-id-1 a.estimator_doc_link.fitted {\n",
       "  /* fitted */\n",
       "  border: var(--sklearn-color-fitted-level-1) 1pt solid;\n",
       "  color: var(--sklearn-color-fitted-level-1);\n",
       "}\n",
       "\n",
       "/* On hover */\n",
       "#sk-container-id-1 a.estimator_doc_link:hover {\n",
       "  /* unfitted */\n",
       "  background-color: var(--sklearn-color-unfitted-level-3);\n",
       "  color: var(--sklearn-color-background);\n",
       "  text-decoration: none;\n",
       "}\n",
       "\n",
       "#sk-container-id-1 a.estimator_doc_link.fitted:hover {\n",
       "  /* fitted */\n",
       "  background-color: var(--sklearn-color-fitted-level-3);\n",
       "}\n",
       "</style><div id=\"sk-container-id-1\" class=\"sk-top-container\"><div class=\"sk-text-repr-fallback\"><pre>XGBClassifier(base_score=None, booster=None, callbacks=None,\n",
       "              colsample_bylevel=None, colsample_bynode=None,\n",
       "              colsample_bytree=None, device=None, early_stopping_rounds=None,\n",
       "              enable_categorical=False, eval_metric=None, feature_types=None,\n",
       "              gamma=None, grow_policy=None, importance_type=None,\n",
       "              interaction_constraints=None, learning_rate=None, max_bin=None,\n",
       "              max_cat_threshold=None, max_cat_to_onehot=None,\n",
       "              max_delta_step=None, max_depth=None, max_leaves=None,\n",
       "              min_child_weight=None, missing=nan, monotone_constraints=None,\n",
       "              multi_strategy=None, n_estimators=None, n_jobs=None,\n",
       "              num_parallel_tree=None, random_state=None, ...)</pre><b>In a Jupyter environment, please rerun this cell to show the HTML representation or trust the notebook. <br />On GitHub, the HTML representation is unable to render, please try loading this page with nbviewer.org.</b></div><div class=\"sk-container\" hidden><div class=\"sk-item\"><div class=\"sk-estimator fitted sk-toggleable\"><input class=\"sk-toggleable__control sk-hidden--visually\" id=\"sk-estimator-id-1\" type=\"checkbox\" checked><label for=\"sk-estimator-id-1\" class=\"sk-toggleable__label fitted sk-toggleable__label-arrow\"><div><div>XGBClassifier</div></div><div><span class=\"sk-estimator-doc-link fitted\">i<span>Fitted</span></span></div></label><div class=\"sk-toggleable__content fitted\"><pre>XGBClassifier(base_score=None, booster=None, callbacks=None,\n",
       "              colsample_bylevel=None, colsample_bynode=None,\n",
       "              colsample_bytree=None, device=None, early_stopping_rounds=None,\n",
       "              enable_categorical=False, eval_metric=None, feature_types=None,\n",
       "              gamma=None, grow_policy=None, importance_type=None,\n",
       "              interaction_constraints=None, learning_rate=None, max_bin=None,\n",
       "              max_cat_threshold=None, max_cat_to_onehot=None,\n",
       "              max_delta_step=None, max_depth=None, max_leaves=None,\n",
       "              min_child_weight=None, missing=nan, monotone_constraints=None,\n",
       "              multi_strategy=None, n_estimators=None, n_jobs=None,\n",
       "              num_parallel_tree=None, random_state=None, ...)</pre></div> </div></div></div></div>"
      ],
      "text/plain": [
       "XGBClassifier(base_score=None, booster=None, callbacks=None,\n",
       "              colsample_bylevel=None, colsample_bynode=None,\n",
       "              colsample_bytree=None, device=None, early_stopping_rounds=None,\n",
       "              enable_categorical=False, eval_metric=None, feature_types=None,\n",
       "              gamma=None, grow_policy=None, importance_type=None,\n",
       "              interaction_constraints=None, learning_rate=None, max_bin=None,\n",
       "              max_cat_threshold=None, max_cat_to_onehot=None,\n",
       "              max_delta_step=None, max_depth=None, max_leaves=None,\n",
       "              min_child_weight=None, missing=nan, monotone_constraints=None,\n",
       "              multi_strategy=None, n_estimators=None, n_jobs=None,\n",
       "              num_parallel_tree=None, random_state=None, ...)"
      ]
     },
     "execution_count": 38,
     "metadata": {},
     "output_type": "execute_result"
    }
   ],
   "source": [
    "xg = XGBClassifier()\n",
    "xg.fit(X_normalized_train , y_train)"
   ]
  },
  {
   "cell_type": "code",
   "execution_count": 39,
   "metadata": {},
   "outputs": [
    {
     "name": "stdout",
     "output_type": "stream",
     "text": [
      "0.8354344453064391\n"
     ]
    }
   ],
   "source": [
    "y_train_predictions = xg.predict(X_normalized_train)\n",
    "f1_train = f1_score(y_train, y_train_predictions)\n",
    "\n",
    "print(f1_train)"
   ]
  },
  {
   "cell_type": "code",
   "execution_count": 40,
   "metadata": {},
   "outputs": [
    {
     "name": "stdout",
     "output_type": "stream",
     "text": [
      "0.7969348659003831\n"
     ]
    }
   ],
   "source": [
    "y_test_predictions = xg.predict(X_normalized_test)\n",
    "f1_test = f1_score(y_test, y_test_predictions)\n",
    "\n",
    "print(f1_test)"
   ]
  },
  {
   "cell_type": "code",
   "execution_count": 41,
   "metadata": {},
   "outputs": [
    {
     "data": {
      "image/png": "[encoded data removed]",
      "text/plain": [
       "<Figure size 640x480 with 1 Axes>"
      ]
     },
     "metadata": {},
     "output_type": "display_data"
    },
    {
     "name": "stdout",
     "output_type": "stream",
     "text": [
      "Training scores mean: [0.97694875 0.91242783 0.87881562 0.86189881 0.85387191]\n",
      "Cross-validation scores mean: [0.74268625 0.76914334 0.77484249 0.78252667 0.78442059]\n",
      "The model has a good fit.\n"
     ]
    }
   ],
   "source": [
    "from sklearn.model_selection import learning_curve\n",
    "\n",
    "# Generate learning curves\n",
    "train_sizes, train_scores, test_scores = learning_curve(xg, X_normalized_train, y_train, cv=cv_splits, scoring='f1')\n",
    "\n",
    "# Calculate mean and standard deviation for training and test scores\n",
    "train_scores_mean = np.mean(train_scores, axis=1)\n",
    "train_scores_std = np.std(train_scores, axis=1)\n",
    "test_scores_mean = np.mean(test_scores, axis=1)\n",
    "test_scores_std = np.std(test_scores, axis=1)\n",
    "\n",
    "# Plot learning curves\n",
    "plt.figure()\n",
    "plt.title(\"Learning Curves (XGBoost)\")\n",
    "plt.xlabel(\"Training examples\")\n",
    "plt.ylabel(\"Score\")\n",
    "plt.grid()\n",
    "\n",
    "plt.fill_between(train_sizes, train_scores_mean - train_scores_std,\n",
    "\t\t\t\t train_scores_mean + train_scores_std, alpha=0.1, color=\"r\")\n",
    "plt.fill_between(train_sizes, test_scores_mean - test_scores_std,\n",
    "\t\t\t\t test_scores_mean + test_scores_std, alpha=0.1, color=\"g\")\n",
    "plt.plot(train_sizes, train_scores_mean, 'o-', color=\"r\", label=\"Training score\")\n",
    "plt.plot(train_sizes, test_scores_mean, 'o-', color=\"g\", label=\"Cross-validation score\")\n",
    "\n",
    "plt.legend(loc=\"best\")\n",
    "plt.show()\n",
    "\n",
    "# Interpretation\n",
    "print(\"Training scores mean:\", train_scores_mean)\n",
    "print(\"Cross-validation scores mean:\", test_scores_mean)\n",
    "\n",
    "if train_scores_mean[-1] < 0.8 and test_scores_mean[-1] < 0.8:\n",
    "\tprint(\"The model is underfitting (high bias).\")\n",
    "elif train_scores_mean[-1] > 0.9 and test_scores_mean[-1] < 0.8:\n",
    "\tprint(\"The model is overfitting (high variance).\")\n",
    "else:\n",
    "\tprint(\"The model has a good fit.\")"
   ]
  },
  {
   "cell_type": "markdown",
   "metadata": {},
   "source": [
    "# Store data"
   ]
  },
  {
   "cell_type": "code",
   "execution_count": 42,
   "metadata": {},
   "outputs": [],
   "source": [
    "import time "
   ]
  },
  {
   "cell_type": "code",
   "execution_count": 129,
   "metadata": {},
   "outputs": [
    {
     "name": "stdout",
     "output_type": "stream",
     "text": [
      "Data point:  0\n",
      "Fitting 9 folds for each of 256 candidates, totalling 2304 fits\n",
      "Data point:  1\n",
      "Fitting 9 folds for each of 256 candidates, totalling 2304 fits\n",
      "Data point:  2\n",
      "Fitting 9 folds for each of 256 candidates, totalling 2304 fits\n",
      "Data point:  3\n",
      "Fitting 9 folds for each of 256 candidates, totalling 2304 fits\n",
      "Data point:  4\n",
      "Fitting 9 folds for each of 256 candidates, totalling 2304 fits\n",
      "Data point:  5\n",
      "Fitting 9 folds for each of 256 candidates, totalling 2304 fits\n",
      "Data point:  6\n",
      "Fitting 9 folds for each of 256 candidates, totalling 2304 fits\n",
      "Data point:  7\n",
      "Fitting 9 folds for each of 256 candidates, totalling 2304 fits\n",
      "Data point:  8\n",
      "Fitting 9 folds for each of 256 candidates, totalling 2304 fits\n",
      "Data point:  9\n",
      "Fitting 9 folds for each of 256 candidates, totalling 2304 fits\n",
      "Data point:  10\n",
      "Fitting 9 folds for each of 256 candidates, totalling 2304 fits\n",
      "Data point:  11\n",
      "Fitting 9 folds for each of 256 candidates, totalling 2304 fits\n",
      "Data point:  12\n",
      "Fitting 9 folds for each of 256 candidates, totalling 2304 fits\n",
      "Data point:  13\n",
      "Fitting 9 folds for each of 256 candidates, totalling 2304 fits\n",
      "Data point:  14\n",
      "Fitting 9 folds for each of 256 candidates, totalling 2304 fits\n",
      "Data point:  15\n",
      "Fitting 9 folds for each of 256 candidates, totalling 2304 fits\n",
      "Data point:  16\n",
      "Fitting 9 folds for each of 256 candidates, totalling 2304 fits\n",
      "Data point:  17\n",
      "Fitting 9 folds for each of 256 candidates, totalling 2304 fits\n",
      "Data point:  18\n",
      "Fitting 9 folds for each of 256 candidates, totalling 2304 fits\n",
      "Data point:  19\n",
      "Fitting 9 folds for each of 256 candidates, totalling 2304 fits\n",
      "Data point:  20\n",
      "Fitting 9 folds for each of 256 candidates, totalling 2304 fits\n",
      "Data point:  21\n",
      "Fitting 9 folds for each of 256 candidates, totalling 2304 fits\n",
      "Data point:  22\n",
      "Fitting 9 folds for each of 256 candidates, totalling 2304 fits\n",
      "Data point:  23\n",
      "Fitting 9 folds for each of 256 candidates, totalling 2304 fits\n",
      "Data point:  24\n",
      "Fitting 9 folds for each of 256 candidates, totalling 2304 fits\n",
      "Data point:  25\n",
      "Fitting 9 folds for each of 256 candidates, totalling 2304 fits\n",
      "Data point:  26\n",
      "Fitting 9 folds for each of 256 candidates, totalling 2304 fits\n",
      "Data point:  27\n",
      "Fitting 9 folds for each of 256 candidates, totalling 2304 fits\n",
      "Data point:  28\n",
      "Fitting 9 folds for each of 256 candidates, totalling 2304 fits\n",
      "Data point:  29\n",
      "Fitting 9 folds for each of 256 candidates, totalling 2304 fits\n"
     ]
    }
   ],
   "source": [
    "data_points = 30\n",
    "swarm_size = 16\n",
    "max_iter = 16\n",
    "test_bounds = {\n",
    "        'gamma': (1,5),\n",
    "        'max_depth': (5,8),\n",
    "        'reg_lambda': (5,10),\n",
    "        'colsample_bytree': (1e-2, 1),\n",
    "}\n",
    "pso_data = []\n",
    "grid_data = []\n",
    "\n",
    "for i in range(data_points): \n",
    "    print(\"Data point: \", i)\n",
    "    SEED = np.random.randint(0, 1000)\n",
    "\n",
    "    # Split train/test with a random state\n",
    "    X_train, X_test, y_train, y_test = train_test_split(x_sm, y_sm, random_state=SEED, train_size=0.8)\n",
    "\n",
    "    ## Normalized Data\n",
    "    # Initialize and use StandardScaler to normalize the data\n",
    "    scaler = StandardScaler()\n",
    "    X_normalized_train = scaler.fit_transform(X_train)     # Fit and transform thr training data\n",
    "    X_normalized_test = scaler.transform(X_test)           # Only transform the test data.\n",
    "\n",
    "    # Generate CV splits once (to reuse the same splits for both methods)\n",
    "    # cv = StratifiedKFold(n_splits=3, shuffle=True, random_state=SEED)\n",
    "    # cv_splits = list(cv.split(X_normalized_train, y_train))  # X, y are your data and labels\n",
    "    cv_repeated = RepeatedStratifiedKFold(n_splits=3, n_repeats=3, random_state=SEED)\n",
    "    cv_repeated_splits = list(cv_repeated.split(X_normalized_train, y_train))  # X, y are your data and labels\n",
    "\n",
    "    data = (X_normalized_train, X_normalized_test, y_train, y_test)\n",
    "\n",
    "    start = time.time()\n",
    "    param_pso, train_best_pso, test_best_pso = pso_xgboost(data, fitness_function, cv_repeated_splits, SEED, test_bounds, swarm_size, max_iter)\n",
    "    end = time.time()\n",
    "    pso_data.append([param_pso, train_best_pso, test_best_pso, SEED, end-start])\n",
    "\n",
    "    start = time.time()\n",
    "    param_grid, train_best_grid, test_best_grid = grid_search_nd_modified(data, test_bounds, swarm_size*max_iter, cv_repeated_splits, SEED)\n",
    "    end = time.time()\n",
    "    grid_data.append([param_grid, train_best_grid, test_best_grid, SEED, end-start])"
   ]
  },
  {
   "cell_type": "code",
   "execution_count": 130,
   "metadata": {},
   "outputs": [],
   "source": [
    "with open('pso_4p_' + 'f1' + '_' + str(swarm_size) + '_' + str(max_iter) + '.csv', 'w') as file:\n",
    "    csv_writer = csv.writer(file)\n",
    "    csv_writer.writerow([\"param\", \"train\", \"test\", \"seed\", \"time\"])\n",
    "    for i in range(len(pso_data)):\n",
    "        csv_writer.writerow(pso_data[i])\n",
    "\n",
    "with open('grid_4p_' + 'f1' + '_' + str(swarm_size) + '_' + str(max_iter) + '.csv', 'w') as file:\n",
    "    csv_writer = csv.writer(file)\n",
    "    csv_writer.writerow([\"param\", \"train\", \"test\", \"seed\", \"time\"])\n",
    "    for i in range(len(grid_data)):\n",
    "        csv_writer.writerow(grid_data[i])"
   ]
  },
  {
   "cell_type": "markdown",
   "metadata": {},
   "source": [
    "# Hypothesis Testing "
   ]
  },
  {
   "cell_type": "markdown",
   "metadata": {},
   "source": [
    "## 16 x 16"
   ]
  },
  {
   "cell_type": "code",
   "execution_count": 119,
   "metadata": {},
   "outputs": [],
   "source": [
    "from scipy import stats"
   ]
  },
  {
   "cell_type": "code",
   "execution_count": 169,
   "metadata": {},
   "outputs": [],
   "source": [
    "grid_f1 = pd.read_csv(r'grid_4p_f1_16_16.csv')\n",
    "pso_f1 = pd.read_csv(r'pso_4p_f1_16_16.csv')"
   ]
  },
  {
   "cell_type": "code",
   "execution_count": 132,
   "metadata": {},
   "outputs": [
    {
     "name": "stdout",
     "output_type": "stream",
     "text": [
      "p_value: 2.7660714963642216e-06\n",
      "Reject the null hypothesis; there is a significant difference between PSO and GridSearch train results (GridSearch < PSO in terms of f1)\n"
     ]
    }
   ],
   "source": [
    "# Perform the t-test:\n",
    "t_stat, p_value = stats.ttest_rel(grid_f1['train'], pso_f1['train'], alternative='less')\n",
    "\n",
    "# Interpret the results:\n",
    "alpha = 0.05\n",
    "if p_value < alpha:\n",
    "    print(\"p_value: \" + str(p_value) + \"\\nReject the null hypothesis; there is a significant difference between PSO and GridSearch train results (GridSearch < PSO in terms of f1)\")\n",
    "else:\n",
    "    print(\"Fail to reject the null hypothesis; there is no significant difference between PSO and GridSearch\")"
   ]
  },
  {
   "cell_type": "code",
   "execution_count": 133,
   "metadata": {},
   "outputs": [
    {
     "name": "stdout",
     "output_type": "stream",
     "text": [
      "p_value: 6.951995942121815e-18\n",
      "Reject the null hypothesis; there is a significant difference between PSO and GridSearch test results (GridSearch < PSO)\n"
     ]
    }
   ],
   "source": [
    "# Perform the t-test:\n",
    "t_stat, p_value = stats.ttest_rel(grid_f1['test'], pso_f1['test'], alternative='less')\n",
    "\n",
    "# Interpret the results:\n",
    "alpha = 0.05\n",
    "if p_value < alpha:\n",
    "    print(\"p_value: \" + str(p_value) + \"\\nReject the null hypothesis; there is a significant difference between PSO and GridSearch test results (GridSearch < PSO)\")\n",
    "else:\n",
    "    print(\"Fail to reject the null hypothesis; there is no significant difference between PSO and GridSearch\")\n",
    "    print(p_value)"
   ]
  },
  {
   "cell_type": "code",
   "execution_count": 136,
   "metadata": {},
   "outputs": [
    {
     "data": {
      "text/plain": [
       "0"
      ]
     },
     "execution_count": 136,
     "metadata": {},
     "output_type": "execute_result"
    }
   ],
   "source": [
    "temp = grid_f1['test'] - pso_f1['test']\n",
    "temp \n",
    "count = 0 \n",
    "for i in temp: \n",
    "\tif i > 0: \n",
    "\t\tcount += 1\n",
    "count"
   ]
  },
  {
   "cell_type": "code",
   "execution_count": 137,
   "metadata": {},
   "outputs": [
    {
     "name": "stdout",
     "output_type": "stream",
     "text": [
      "p_value: 1.722766742842392e-14\n",
      "Reject the null hypothesis; there is a significant difference between PSO and GridSearch tuning time (GridSearch < PSO)\n"
     ]
    }
   ],
   "source": [
    "# Perform the t-test:\n",
    "t_stat, p_value = stats.ttest_rel(grid_f1['time'], pso_f1['time'], alternative='less')\n",
    "\n",
    "# Interpret the results:\n",
    "alpha = 0.05\n",
    "if p_value < alpha:\n",
    "    print(\"p_value: \" + str(p_value) + \"\\nReject the null hypothesis; there is a significant difference between PSO and GridSearch tuning time (GridSearch < PSO)\")\n",
    "else:\n",
    "    print(\"Fail to reject the null hypothesis; there is no significant difference between PSO and GridSearch\")\n",
    "    print(p_value)"
   ]
  },
  {
   "cell_type": "markdown",
   "metadata": {},
   "source": [
    "## 9 x 9 "
   ]
  },
  {
   "cell_type": "code",
   "execution_count": 138,
   "metadata": {},
   "outputs": [],
   "source": [
    "grid_f1_9x9 = pd.read_csv(r'grid_4p_f1_9_9.csv')\n",
    "pso_f1_9x9 = pd.read_csv(r'pso_4p_f1_9_9.csv')"
   ]
  },
  {
   "cell_type": "code",
   "execution_count": 139,
   "metadata": {},
   "outputs": [
    {
     "name": "stdout",
     "output_type": "stream",
     "text": [
      "p_value: 0.0003645305870798159\n",
      "Reject the null hypothesis; there is a significant difference between PSO and GridSearch train results (GridSearch < PSO in terms of f1)\n"
     ]
    }
   ],
   "source": [
    "# Perform the t-test:\n",
    "t_stat, p_value = stats.ttest_rel(grid_f1_9x9['train'], pso_f1_9x9['train'], alternative='less')\n",
    "\n",
    "# Interpret the results:\n",
    "alpha = 0.05\n",
    "if p_value < alpha:\n",
    "    print(\"p_value: \" + str(p_value) + \"\\nReject the null hypothesis; there is a significant difference between PSO and GridSearch train results (GridSearch < PSO in terms of f1)\")\n",
    "else:\n",
    "    print(\"Fail to reject the null hypothesis; there is no significant difference between PSO and GridSearch\")"
   ]
  },
  {
   "cell_type": "code",
   "execution_count": 140,
   "metadata": {},
   "outputs": [
    {
     "name": "stdout",
     "output_type": "stream",
     "text": [
      "p_value: 4.217945517182343e-20\n",
      "Reject the null hypothesis; there is a significant difference between PSO and GridSearch test results (GridSearch < PSO)\n"
     ]
    }
   ],
   "source": [
    "# Perform the t-test:\n",
    "t_stat, p_value = stats.ttest_rel(grid_f1_9x9['test'], pso_f1_9x9['test'], alternative='less')\n",
    "\n",
    "# Interpret the results:\n",
    "alpha = 0.05\n",
    "if p_value < alpha:\n",
    "    print(\"p_value: \" + str(p_value) + \"\\nReject the null hypothesis; there is a significant difference between PSO and GridSearch test results (GridSearch < PSO)\")\n",
    "else:\n",
    "    print(\"Fail to reject the null hypothesis; there is no significant difference between PSO and GridSearch\")\n",
    "    print(p_value)"
   ]
  },
  {
   "cell_type": "markdown",
   "metadata": {},
   "source": [
    "# Mean and Std"
   ]
  },
  {
   "cell_type": "markdown",
   "metadata": {},
   "source": [
    "## Train"
   ]
  },
  {
   "cell_type": "code",
   "execution_count": 170,
   "metadata": {},
   "outputs": [
    {
     "data": {
      "text/plain": [
       "(np.float64(0.7943697693819722), np.float64(0.7950351479816221))"
      ]
     },
     "execution_count": 170,
     "metadata": {},
     "output_type": "execute_result"
    }
   ],
   "source": [
    "grid_f1_9x9['train'].mean(), pso_f1_9x9['train'].mean()"
   ]
  },
  {
   "cell_type": "code",
   "execution_count": 171,
   "metadata": {},
   "outputs": [
    {
     "data": {
      "text/plain": [
       "(np.float64(0.0017930329402712998), np.float64(0.0018467058509095996))"
      ]
     },
     "execution_count": 171,
     "metadata": {},
     "output_type": "execute_result"
    }
   ],
   "source": [
    "grid_f1_9x9['train'].std(), pso_f1_9x9['train'].std()"
   ]
  },
  {
   "cell_type": "code",
   "execution_count": 172,
   "metadata": {},
   "outputs": [
    {
     "data": {
      "text/plain": [
       "(np.float64(0.7951215219242117), np.float64(0.7956905616566939))"
      ]
     },
     "execution_count": 172,
     "metadata": {},
     "output_type": "execute_result"
    }
   ],
   "source": [
    "grid_f1['train'].mean(), pso_f1['train'].mean()"
   ]
  },
  {
   "cell_type": "code",
   "execution_count": 173,
   "metadata": {},
   "outputs": [
    {
     "data": {
      "text/plain": [
       "(np.float64(0.0015299623080677076), np.float64(0.0014590388116120867))"
      ]
     },
     "execution_count": 173,
     "metadata": {},
     "output_type": "execute_result"
    }
   ],
   "source": [
    "grid_f1['train'].std(), pso_f1['train'].std()"
   ]
  },
  {
   "cell_type": "markdown",
   "metadata": {},
   "source": [
    "## Test"
   ]
  },
  {
   "cell_type": "code",
   "execution_count": 165,
   "metadata": {},
   "outputs": [
    {
     "data": {
      "text/plain": [
       "(np.float64(0.7953200707859427), np.float64(0.8071368294153103))"
      ]
     },
     "execution_count": 165,
     "metadata": {},
     "output_type": "execute_result"
    }
   ],
   "source": [
    "grid_f1_9x9['test'].mean(), pso_f1_9x9['test'].mean()"
   ]
  },
  {
   "cell_type": "code",
   "execution_count": 166,
   "metadata": {},
   "outputs": [
    {
     "data": {
      "text/plain": [
       "(np.float64(0.006358129138699068), np.float64(0.00657727669596481))"
      ]
     },
     "execution_count": 166,
     "metadata": {},
     "output_type": "execute_result"
    }
   ],
   "source": [
    "grid_f1_9x9['test'].std(), pso_f1_9x9['test'].std()"
   ]
  },
  {
   "cell_type": "code",
   "execution_count": 167,
   "metadata": {},
   "outputs": [
    {
     "data": {
      "text/plain": [
       "(np.float64(0.7959322084164691), np.float64(0.8063291139240506))"
      ]
     },
     "execution_count": 167,
     "metadata": {},
     "output_type": "execute_result"
    }
   ],
   "source": [
    "grid_f1['test'].mean(), pso_f1['test'].mean()"
   ]
  },
  {
   "cell_type": "code",
   "execution_count": 168,
   "metadata": {},
   "outputs": [
    {
     "data": {
      "text/plain": [
       "(np.float64(0.004404150101297959), np.float64(0.004470758822299197))"
      ]
     },
     "execution_count": 168,
     "metadata": {},
     "output_type": "execute_result"
    }
   ],
   "source": [
    "grid_f1['test'].std(), pso_f1['test'].std()"
   ]
  }
 ],
 "metadata": {
  "kernelspec": {
   "display_name": ".venv",
   "language": "python",
   "name": "python3"
  },
  "language_info": {
   "codemirror_mode": {
    "name": "ipython",
    "version": 3
   },
   "file_extension": ".py",
   "mimetype": "text/x-python",
   "name": "python",
   "nbconvert_exporter": "python",
   "pygments_lexer": "ipython3",
   "version": "3.10.10"
  }
 },
 "nbformat": 4,
 "nbformat_minor": 2
}
